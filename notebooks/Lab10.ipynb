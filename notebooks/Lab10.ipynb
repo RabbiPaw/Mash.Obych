{
 "cells": [
  {
   "cell_type": "code",
   "execution_count": 1,
   "id": "dfae10e3-0267-4f6a-8f05-075868df337e",
   "metadata": {},
   "outputs": [],
   "source": [
    "import pandas as pd"
   ]
  },
  {
   "cell_type": "code",
   "execution_count": 2,
   "id": "727746d4-2cda-4344-8a80-fccf7f9dff03",
   "metadata": {},
   "outputs": [],
   "source": [
    "df = pd.read_csv('../data/Spam.csv')"
   ]
  },
  {
   "cell_type": "code",
   "execution_count": 3,
   "id": "cec2566f-030e-48eb-8521-618044286b3b",
   "metadata": {},
   "outputs": [
    {
     "data": {
      "text/html": [
       "<div>\n",
       "<style scoped>\n",
       "    .dataframe tbody tr th:only-of-type {\n",
       "        vertical-align: middle;\n",
       "    }\n",
       "\n",
       "    .dataframe tbody tr th {\n",
       "        vertical-align: top;\n",
       "    }\n",
       "\n",
       "    .dataframe thead th {\n",
       "        text-align: right;\n",
       "    }\n",
       "</style>\n",
       "<table border=\"1\" class=\"dataframe\">\n",
       "  <thead>\n",
       "    <tr style=\"text-align: right;\">\n",
       "      <th></th>\n",
       "      <th>Type</th>\n",
       "      <th>Message</th>\n",
       "    </tr>\n",
       "  </thead>\n",
       "  <tbody>\n",
       "    <tr>\n",
       "      <th>0</th>\n",
       "      <td>ham</td>\n",
       "      <td>Go until jurong point, crazy.. Available only ...</td>\n",
       "    </tr>\n",
       "    <tr>\n",
       "      <th>1</th>\n",
       "      <td>ham</td>\n",
       "      <td>Ok lar... Joking wif u oni...</td>\n",
       "    </tr>\n",
       "    <tr>\n",
       "      <th>2</th>\n",
       "      <td>spam</td>\n",
       "      <td>Free entry in 2 a wkly comp to win FA Cup fina...</td>\n",
       "    </tr>\n",
       "    <tr>\n",
       "      <th>3</th>\n",
       "      <td>ham</td>\n",
       "      <td>U dun say so early hor... U c already then say...</td>\n",
       "    </tr>\n",
       "    <tr>\n",
       "      <th>4</th>\n",
       "      <td>ham</td>\n",
       "      <td>Nah I don't think he goes to usf, he lives aro...</td>\n",
       "    </tr>\n",
       "  </tbody>\n",
       "</table>\n",
       "</div>"
      ],
      "text/plain": [
       "   Type                                            Message\n",
       "0   ham  Go until jurong point, crazy.. Available only ...\n",
       "1   ham                      Ok lar... Joking wif u oni...\n",
       "2  spam  Free entry in 2 a wkly comp to win FA Cup fina...\n",
       "3   ham  U dun say so early hor... U c already then say...\n",
       "4   ham  Nah I don't think he goes to usf, he lives aro..."
      ]
     },
     "execution_count": 3,
     "metadata": {},
     "output_type": "execute_result"
    }
   ],
   "source": [
    "df.head()"
   ]
  },
  {
   "cell_type": "code",
   "execution_count": 4,
   "id": "b1e4012b-b5c9-49b9-a1b0-3232b0a6c43f",
   "metadata": {},
   "outputs": [
    {
     "name": "stdout",
     "output_type": "stream",
     "text": [
      "<class 'pandas.core.frame.DataFrame'>\n",
      "RangeIndex: 5572 entries, 0 to 5571\n",
      "Data columns (total 2 columns):\n",
      " #   Column   Non-Null Count  Dtype \n",
      "---  ------   --------------  ----- \n",
      " 0   Type     5572 non-null   object\n",
      " 1   Message  5572 non-null   object\n",
      "dtypes: object(2)\n",
      "memory usage: 87.2+ KB\n"
     ]
    }
   ],
   "source": [
    "df.info()"
   ]
  },
  {
   "cell_type": "code",
   "execution_count": 5,
   "id": "2f7c67a2-21ff-45e9-8def-d06f4abe3755",
   "metadata": {},
   "outputs": [],
   "source": [
    "import spacy\n",
    "from spacy.lookups import Lookups\n",
    "\n",
    "nlp = spacy.load(\"en_core_web_sm\")\n",
    "df[\"Message\"] = df[\"Message\"].apply(lambda message: ' '.join([word.lemma_ for word in nlp(message)\n",
    "                                                              if word.lower_ not in nlp.Defaults.stop_words])\n",
    "                                   )"
   ]
  },
  {
   "cell_type": "code",
   "execution_count": 6,
   "id": "d8c5e4df-1ab9-43bb-b017-a2de0a9af96f",
   "metadata": {},
   "outputs": [],
   "source": [
    "import numpy as np"
   ]
  },
  {
   "cell_type": "code",
   "execution_count": 7,
   "id": "d0c3a847-3bcc-4e09-a903-aceca3c2b2ba",
   "metadata": {},
   "outputs": [],
   "source": [
    "from sklearn.feature_extraction.text import CountVectorizer\n",
    "\n",
    "bow = count_vectorizer = CountVectorizer(ngram_range = (1,2), min_df=2)\n",
    "x_bow = np.asarray(\n",
    "    bow.fit_transform(df['Message']).todense()\n",
    ")\n",
    "\n",
    "y = df['Type'].replace(['ham','spam'],[0,1])"
   ]
  },
  {
   "cell_type": "code",
   "execution_count": 8,
   "id": "fe44ef12-477f-4b10-9fd4-bd4a8c22fb45",
   "metadata": {},
   "outputs": [],
   "source": [
    "from sklearn.feature_extraction.text import TfidfVectorizer\n",
    "\n",
    "tf_vectorizer = TfidfVectorizer(sublinear_tf=True)\n",
    "\n",
    "x_tfidf = np.asarray(\n",
    "    tf_vectorizer.fit_transform(df[\"Message\"]).todense()\n",
    ")"
   ]
  },
  {
   "cell_type": "code",
   "execution_count": 9,
   "id": "d2730b02-bd0c-4c19-95a1-8c297ffbb054",
   "metadata": {},
   "outputs": [],
   "source": [
    "from sklearn.feature_selection import SelectKBest\n",
    "\n",
    "x_bow = SelectKBest(k=30).fit_transform(x_bow, y)\n",
    "\n",
    "x_tfidf = SelectKBest(k=30).fit_transform(x_tfidf, y)"
   ]
  },
  {
   "cell_type": "code",
   "execution_count": 14,
   "id": "94a13fe1-2b1d-4b38-bb80-5d4f20d720f1",
   "metadata": {},
   "outputs": [],
   "source": [
    "from sklearn.model_selection import train_test_split\n",
    "from sklearn.metrics import classification_report\n",
    "from sklearn.ensemble import BaggingClassifier\n",
    "\n",
    "def test(X,y):\n",
    "    X_train, X_test,y_train,y_test = train_test_split(X, y, test_size = 0.15, random_state = 42)\n",
    "    bac = BaggingClassifier().fit(X_train, y_train)\n",
    "    print(classification_report(y_test, bac.predict(X_test)))"
   ]
  },
  {
   "cell_type": "code",
   "execution_count": 15,
   "id": "239578f9-66fa-493e-a4e8-d411886f4b64",
   "metadata": {},
   "outputs": [
    {
     "name": "stdout",
     "output_type": "stream",
     "text": [
      "              precision    recall  f1-score   support\n",
      "\n",
      "           0       0.97      0.99      0.98       723\n",
      "           1       0.96      0.83      0.89       113\n",
      "\n",
      "    accuracy                           0.97       836\n",
      "   macro avg       0.97      0.91      0.94       836\n",
      "weighted avg       0.97      0.97      0.97       836\n",
      "\n"
     ]
    }
   ],
   "source": [
    "test(x_bow, y)"
   ]
  },
  {
   "cell_type": "code",
   "execution_count": 16,
   "id": "e623089e-aa1c-4061-b2ce-54ded3bb4f75",
   "metadata": {},
   "outputs": [
    {
     "name": "stdout",
     "output_type": "stream",
     "text": [
      "              precision    recall  f1-score   support\n",
      "\n",
      "           0       0.99      0.99      0.99       723\n",
      "           1       0.94      0.91      0.93       113\n",
      "\n",
      "    accuracy                           0.98       836\n",
      "   macro avg       0.97      0.95      0.96       836\n",
      "weighted avg       0.98      0.98      0.98       836\n",
      "\n"
     ]
    }
   ],
   "source": [
    "test(x_tfidf, y)"
   ]
  },
  {
   "cell_type": "code",
   "execution_count": 17,
   "id": "f41e68c7-d178-44df-8b57-0318c82ea852",
   "metadata": {},
   "outputs": [],
   "source": [
    "tf_vectorizer = CountVectorizer(max_df = 0.95, min_df = 2,\n",
    "                                max_features= 1000,\n",
    "                                stop_words = 'english')\n",
    "tf = tf_vectorizer.fit_transform(df[\"Message\"])"
   ]
  },
  {
   "cell_type": "code",
   "execution_count": 18,
   "id": "4014f293-2242-4c31-9120-cb480b170385",
   "metadata": {},
   "outputs": [],
   "source": [
    "from sklearn.decomposition import LatentDirichletAllocation\n",
    "\n",
    "LDA = LatentDirichletAllocation(\n",
    "    max_iter = 20,\n",
    "    learning_method='online',\n",
    "    learning_offset=50.,\n",
    "    random_state=0\n",
    ").fit(tf)"
   ]
  },
  {
   "cell_type": "code",
   "execution_count": 20,
   "id": "cd954ab2-5749-4a5b-bf96-4232e8ba8592",
   "metadata": {},
   "outputs": [
    {
     "data": {
      "text/plain": [
       "(5572, 10)"
      ]
     },
     "execution_count": 20,
     "metadata": {},
     "output_type": "execute_result"
    }
   ],
   "source": [
    "LDA.transform(tf).shape"
   ]
  },
  {
   "cell_type": "code",
   "execution_count": 21,
   "id": "4c17d12a-c585-48ec-8403-0da5f92c2c86",
   "metadata": {},
   "outputs": [
    {
     "name": "stdout",
     "output_type": "stream",
     "text": [
      "Topic #0:\n",
      "good love sorry day later happy dear think tomorrow morning\n",
      "Topic #1:\n",
      "ok send oh message right phone watch pick place ll\n",
      "Topic #2:\n",
      "lor da wat ask ok finish cos wan dun ur\n",
      "Topic #3:\n",
      "gt lt free ur reply msg txt send nokia 150p\n",
      "Topic #4:\n",
      "come time great thing leave life like buy friend feel\n",
      "Topic #5:\n",
      "know want tell need week pls let wait yeah tone\n",
      "Topic #6:\n",
      "yes number stop try com www thank reach claim account\n",
      "Topic #7:\n",
      "hi like miss text way hey new say start home\n",
      "Topic #8:\n",
      "cash prize claim customer ya service award win ur holiday\n",
      "Topic #9:\n",
      "work night sleep late meet fine mean problem day person\n"
     ]
    }
   ],
   "source": [
    "features_names = tf_vectorizer.get_feature_names_out()\n",
    "\n",
    "for topic_idx, topic in enumerate(LDA.components_):\n",
    "    print(\"Topic #%d:\" % topic_idx)\n",
    "    print(\" \".join([features_names[i] for i in topic.argsort()[:-11:-1]]))"
   ]
  }
 ],
 "metadata": {
  "kernelspec": {
   "display_name": "Python 3 (ipykernel)",
   "language": "python",
   "name": "python3"
  },
  "language_info": {
   "codemirror_mode": {
    "name": "ipython",
    "version": 3
   },
   "file_extension": ".py",
   "mimetype": "text/x-python",
   "name": "python",
   "nbconvert_exporter": "python",
   "pygments_lexer": "ipython3",
   "version": "3.11.7"
  }
 },
 "nbformat": 4,
 "nbformat_minor": 5
}
