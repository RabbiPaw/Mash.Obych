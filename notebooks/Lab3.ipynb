{
 "cells": [
  {
   "cell_type": "code",
   "execution_count": 1,
   "id": "9958f878-8571-4ff9-b1b3-6be17d1ed9c4",
   "metadata": {},
   "outputs": [],
   "source": [
    "import pandas as pd\n",
    "import matplotlib.pyplot as plt\n",
    "import numpy as np\n",
    "import seaborn as sns\n",
    "import warnings"
   ]
  },
  {
   "cell_type": "code",
   "execution_count": 2,
   "id": "869c63ba-cd8f-4e06-832a-dc51d6e6bece",
   "metadata": {},
   "outputs": [],
   "source": [
    "warnings.filterwarnings(\"ignore\")"
   ]
  },
  {
   "cell_type": "markdown",
   "id": "0ad7fc08-5e5d-40a1-a568-790efa03256b",
   "metadata": {},
   "source": [
    "## Подготовка и EDA"
   ]
  },
  {
   "cell_type": "code",
   "execution_count": 3,
   "id": "88279ef2-fb5c-4465-b64a-31647b735a71",
   "metadata": {},
   "outputs": [],
   "source": [
    "data = pd.read_csv('../data/Dataset3.csv')"
   ]
  },
  {
   "cell_type": "code",
   "execution_count": 4,
   "id": "5621fb51-161c-47ca-9861-c7698ebb35e1",
   "metadata": {},
   "outputs": [
    {
     "data": {
      "text/html": [
       "<div>\n",
       "<style scoped>\n",
       "    .dataframe tbody tr th:only-of-type {\n",
       "        vertical-align: middle;\n",
       "    }\n",
       "\n",
       "    .dataframe tbody tr th {\n",
       "        vertical-align: top;\n",
       "    }\n",
       "\n",
       "    .dataframe thead th {\n",
       "        text-align: right;\n",
       "    }\n",
       "</style>\n",
       "<table border=\"1\" class=\"dataframe\">\n",
       "  <thead>\n",
       "    <tr style=\"text-align: right;\">\n",
       "      <th></th>\n",
       "      <th>price</th>\n",
       "      <th>area</th>\n",
       "      <th>latitude</th>\n",
       "      <th>longitude</th>\n",
       "      <th>Bedrooms</th>\n",
       "      <th>Bathrooms</th>\n",
       "      <th>Balcony</th>\n",
       "      <th>Status</th>\n",
       "      <th>neworold</th>\n",
       "      <th>parking</th>\n",
       "      <th>Furnished_status</th>\n",
       "      <th>Lift</th>\n",
       "      <th>type_of_building</th>\n",
       "    </tr>\n",
       "  </thead>\n",
       "  <tbody>\n",
       "    <tr>\n",
       "      <th>0</th>\n",
       "      <td>22400000.0</td>\n",
       "      <td>629.0</td>\n",
       "      <td>19.032800</td>\n",
       "      <td>72.896357</td>\n",
       "      <td>2.0</td>\n",
       "      <td>2.0</td>\n",
       "      <td>0.0</td>\n",
       "      <td>Under Construction</td>\n",
       "      <td>New Property</td>\n",
       "      <td>0.0</td>\n",
       "      <td>NaN</td>\n",
       "      <td>0.0</td>\n",
       "      <td>Flat</td>\n",
       "    </tr>\n",
       "    <tr>\n",
       "      <th>1</th>\n",
       "      <td>35000000.0</td>\n",
       "      <td>974.0</td>\n",
       "      <td>19.032800</td>\n",
       "      <td>72.896357</td>\n",
       "      <td>3.0</td>\n",
       "      <td>2.0</td>\n",
       "      <td>0.0</td>\n",
       "      <td>Under Construction</td>\n",
       "      <td>New Property</td>\n",
       "      <td>0.0</td>\n",
       "      <td>NaN</td>\n",
       "      <td>0.0</td>\n",
       "      <td>Flat</td>\n",
       "    </tr>\n",
       "    <tr>\n",
       "      <th>2</th>\n",
       "      <td>31700000.0</td>\n",
       "      <td>968.0</td>\n",
       "      <td>19.085600</td>\n",
       "      <td>72.909277</td>\n",
       "      <td>3.0</td>\n",
       "      <td>3.0</td>\n",
       "      <td>0.0</td>\n",
       "      <td>Under Construction</td>\n",
       "      <td>New Property</td>\n",
       "      <td>0.0</td>\n",
       "      <td>NaN</td>\n",
       "      <td>0.0</td>\n",
       "      <td>Flat</td>\n",
       "    </tr>\n",
       "    <tr>\n",
       "      <th>3</th>\n",
       "      <td>18700000.0</td>\n",
       "      <td>629.0</td>\n",
       "      <td>19.155756</td>\n",
       "      <td>72.846862</td>\n",
       "      <td>2.0</td>\n",
       "      <td>2.0</td>\n",
       "      <td>2.0</td>\n",
       "      <td>Ready to Move</td>\n",
       "      <td>New Property</td>\n",
       "      <td>2.0</td>\n",
       "      <td>NaN</td>\n",
       "      <td>2.0</td>\n",
       "      <td>Flat</td>\n",
       "    </tr>\n",
       "    <tr>\n",
       "      <th>4</th>\n",
       "      <td>13500000.0</td>\n",
       "      <td>1090.0</td>\n",
       "      <td>19.177555</td>\n",
       "      <td>72.849887</td>\n",
       "      <td>2.0</td>\n",
       "      <td>2.0</td>\n",
       "      <td>0.0</td>\n",
       "      <td>NaN</td>\n",
       "      <td>New Property</td>\n",
       "      <td>0.0</td>\n",
       "      <td>Unfurnished</td>\n",
       "      <td>0.0</td>\n",
       "      <td>Flat</td>\n",
       "    </tr>\n",
       "    <tr>\n",
       "      <th>...</th>\n",
       "      <td>...</td>\n",
       "      <td>...</td>\n",
       "      <td>...</td>\n",
       "      <td>...</td>\n",
       "      <td>...</td>\n",
       "      <td>...</td>\n",
       "      <td>...</td>\n",
       "      <td>...</td>\n",
       "      <td>...</td>\n",
       "      <td>...</td>\n",
       "      <td>...</td>\n",
       "      <td>...</td>\n",
       "      <td>...</td>\n",
       "    </tr>\n",
       "    <tr>\n",
       "      <th>95</th>\n",
       "      <td>26700000.0</td>\n",
       "      <td>2017.0</td>\n",
       "      <td>19.165781</td>\n",
       "      <td>72.934534</td>\n",
       "      <td>3.0</td>\n",
       "      <td>3.0</td>\n",
       "      <td>0.0</td>\n",
       "      <td>NaN</td>\n",
       "      <td>New Property</td>\n",
       "      <td>0.0</td>\n",
       "      <td>Unfurnished</td>\n",
       "      <td>0.0</td>\n",
       "      <td>Flat</td>\n",
       "    </tr>\n",
       "    <tr>\n",
       "      <th>96</th>\n",
       "      <td>60000000.0</td>\n",
       "      <td>1800.0</td>\n",
       "      <td>19.098821</td>\n",
       "      <td>72.832072</td>\n",
       "      <td>3.0</td>\n",
       "      <td>3.0</td>\n",
       "      <td>3.0</td>\n",
       "      <td>Ready to Move</td>\n",
       "      <td>Resale</td>\n",
       "      <td>3.0</td>\n",
       "      <td>Semi-Furnished</td>\n",
       "      <td>3.0</td>\n",
       "      <td>Flat</td>\n",
       "    </tr>\n",
       "    <tr>\n",
       "      <th>97</th>\n",
       "      <td>33500000.0</td>\n",
       "      <td>1540.0</td>\n",
       "      <td>19.123709</td>\n",
       "      <td>72.892867</td>\n",
       "      <td>3.0</td>\n",
       "      <td>3.0</td>\n",
       "      <td>1.0</td>\n",
       "      <td>NaN</td>\n",
       "      <td>New Property</td>\n",
       "      <td>1.0</td>\n",
       "      <td>Semi-Furnished</td>\n",
       "      <td>1.0</td>\n",
       "      <td>Flat</td>\n",
       "    </tr>\n",
       "    <tr>\n",
       "      <th>98</th>\n",
       "      <td>54000000.0</td>\n",
       "      <td>3018.0</td>\n",
       "      <td>19.174674</td>\n",
       "      <td>72.943104</td>\n",
       "      <td>4.0</td>\n",
       "      <td>5.0</td>\n",
       "      <td>1.0</td>\n",
       "      <td>NaN</td>\n",
       "      <td>New Property</td>\n",
       "      <td>1.0</td>\n",
       "      <td>Unfurnished</td>\n",
       "      <td>1.0</td>\n",
       "      <td>Flat</td>\n",
       "    </tr>\n",
       "    <tr>\n",
       "      <th>99</th>\n",
       "      <td>29000000.0</td>\n",
       "      <td>1800.0</td>\n",
       "      <td>19.157602</td>\n",
       "      <td>72.945243</td>\n",
       "      <td>3.0</td>\n",
       "      <td>3.0</td>\n",
       "      <td>1.0</td>\n",
       "      <td>NaN</td>\n",
       "      <td>New Property</td>\n",
       "      <td>1.0</td>\n",
       "      <td>Semi-Furnished</td>\n",
       "      <td>1.0</td>\n",
       "      <td>Flat</td>\n",
       "    </tr>\n",
       "  </tbody>\n",
       "</table>\n",
       "<p>100 rows × 13 columns</p>\n",
       "</div>"
      ],
      "text/plain": [
       "         price    area   latitude  longitude  Bedrooms  Bathrooms  Balcony  \\\n",
       "0   22400000.0   629.0  19.032800  72.896357       2.0        2.0      0.0   \n",
       "1   35000000.0   974.0  19.032800  72.896357       3.0        2.0      0.0   \n",
       "2   31700000.0   968.0  19.085600  72.909277       3.0        3.0      0.0   \n",
       "3   18700000.0   629.0  19.155756  72.846862       2.0        2.0      2.0   \n",
       "4   13500000.0  1090.0  19.177555  72.849887       2.0        2.0      0.0   \n",
       "..         ...     ...        ...        ...       ...        ...      ...   \n",
       "95  26700000.0  2017.0  19.165781  72.934534       3.0        3.0      0.0   \n",
       "96  60000000.0  1800.0  19.098821  72.832072       3.0        3.0      3.0   \n",
       "97  33500000.0  1540.0  19.123709  72.892867       3.0        3.0      1.0   \n",
       "98  54000000.0  3018.0  19.174674  72.943104       4.0        5.0      1.0   \n",
       "99  29000000.0  1800.0  19.157602  72.945243       3.0        3.0      1.0   \n",
       "\n",
       "                Status      neworold  parking Furnished_status  Lift  \\\n",
       "0   Under Construction  New Property      0.0              NaN   0.0   \n",
       "1   Under Construction  New Property      0.0              NaN   0.0   \n",
       "2   Under Construction  New Property      0.0              NaN   0.0   \n",
       "3        Ready to Move  New Property      2.0              NaN   2.0   \n",
       "4                  NaN  New Property      0.0      Unfurnished   0.0   \n",
       "..                 ...           ...      ...              ...   ...   \n",
       "95                 NaN  New Property      0.0      Unfurnished   0.0   \n",
       "96       Ready to Move        Resale      3.0   Semi-Furnished   3.0   \n",
       "97                 NaN  New Property      1.0   Semi-Furnished   1.0   \n",
       "98                 NaN  New Property      1.0      Unfurnished   1.0   \n",
       "99                 NaN  New Property      1.0   Semi-Furnished   1.0   \n",
       "\n",
       "   type_of_building  \n",
       "0              Flat  \n",
       "1              Flat  \n",
       "2              Flat  \n",
       "3              Flat  \n",
       "4              Flat  \n",
       "..              ...  \n",
       "95             Flat  \n",
       "96             Flat  \n",
       "97             Flat  \n",
       "98             Flat  \n",
       "99             Flat  \n",
       "\n",
       "[100 rows x 13 columns]"
      ]
     },
     "execution_count": 4,
     "metadata": {},
     "output_type": "execute_result"
    }
   ],
   "source": [
    "data.head(100)\n"
   ]
  },
  {
   "cell_type": "code",
   "execution_count": 5,
   "id": "a300bcc4-cddd-481c-ac18-650078e9690e",
   "metadata": {},
   "outputs": [
    {
     "name": "stdout",
     "output_type": "stream",
     "text": [
      "<class 'pandas.core.frame.DataFrame'>\n",
      "RangeIndex: 6255 entries, 0 to 6254\n",
      "Data columns (total 13 columns):\n",
      " #   Column            Non-Null Count  Dtype  \n",
      "---  ------            --------------  -----  \n",
      " 0   price             6255 non-null   float64\n",
      " 1   area              6255 non-null   float64\n",
      " 2   latitude          6255 non-null   float64\n",
      " 3   longitude         6255 non-null   float64\n",
      " 4   Bedrooms          6255 non-null   float64\n",
      " 5   Bathrooms         6255 non-null   float64\n",
      " 6   Balcony           6255 non-null   float64\n",
      " 7   Status            5774 non-null   object \n",
      " 8   neworold          6255 non-null   object \n",
      " 9   parking           6255 non-null   float64\n",
      " 10  Furnished_status  3600 non-null   object \n",
      " 11  Lift              6255 non-null   float64\n",
      " 12  type_of_building  6255 non-null   object \n",
      "dtypes: float64(9), object(4)\n",
      "memory usage: 635.4+ KB\n"
     ]
    }
   ],
   "source": [
    "data.info()"
   ]
  },
  {
   "cell_type": "code",
   "execution_count": 6,
   "id": "ca5ec2bf-f0f7-415b-ba0b-28408f6f4581",
   "metadata": {},
   "outputs": [
    {
     "data": {
      "text/plain": [
       "Index(['price', 'area', 'latitude', 'longitude', 'Bedrooms', 'Bathrooms',\n",
       "       'Balcony', 'Status', 'neworold', 'parking', 'Furnished_status', 'Lift',\n",
       "       'type_of_building'],\n",
       "      dtype='object')"
      ]
     },
     "execution_count": 6,
     "metadata": {},
     "output_type": "execute_result"
    }
   ],
   "source": [
    "data.columns"
   ]
  },
  {
   "cell_type": "code",
   "execution_count": 7,
   "id": "fb14374b-54cd-4995-9022-9053c4fa64c8",
   "metadata": {},
   "outputs": [],
   "source": [
    "data = data.rename(\n",
    "    columns={\n",
    "        'Bedrooms' : 'bedrooms',\n",
    "        'Bathrooms' : 'bathrooms',\n",
    "        'Balcony' : 'balcony',\n",
    "        'Status' : 'status',\n",
    "        'neworold' : 'new_or_old',\n",
    "        'Furnished_status' : 'furnished_status',\n",
    "        'Lift' : 'lift'})\n",
    "        \n",
    "        "
   ]
  },
  {
   "cell_type": "code",
   "execution_count": 8,
   "id": "6eb97ea8-e279-4650-8e2a-fb2d8409180f",
   "metadata": {},
   "outputs": [
    {
     "data": {
      "text/plain": [
       "Index(['price', 'area', 'latitude', 'longitude', 'bedrooms', 'bathrooms',\n",
       "       'balcony', 'status', 'new_or_old', 'parking', 'furnished_status',\n",
       "       'lift', 'type_of_building'],\n",
       "      dtype='object')"
      ]
     },
     "execution_count": 8,
     "metadata": {},
     "output_type": "execute_result"
    }
   ],
   "source": [
    "data.columns"
   ]
  },
  {
   "cell_type": "code",
   "execution_count": 9,
   "id": "9454fd3e-059b-4586-9bc2-0740c197db1d",
   "metadata": {},
   "outputs": [
    {
     "data": {
      "text/html": [
       "<div>\n",
       "<style scoped>\n",
       "    .dataframe tbody tr th:only-of-type {\n",
       "        vertical-align: middle;\n",
       "    }\n",
       "\n",
       "    .dataframe tbody tr th {\n",
       "        vertical-align: top;\n",
       "    }\n",
       "\n",
       "    .dataframe thead th {\n",
       "        text-align: right;\n",
       "    }\n",
       "</style>\n",
       "<table border=\"1\" class=\"dataframe\">\n",
       "  <thead>\n",
       "    <tr style=\"text-align: right;\">\n",
       "      <th></th>\n",
       "      <th>price</th>\n",
       "      <th>area</th>\n",
       "      <th>latitude</th>\n",
       "      <th>longitude</th>\n",
       "      <th>bedrooms</th>\n",
       "      <th>bathrooms</th>\n",
       "      <th>balcony</th>\n",
       "      <th>parking</th>\n",
       "      <th>lift</th>\n",
       "    </tr>\n",
       "  </thead>\n",
       "  <tbody>\n",
       "    <tr>\n",
       "      <th>count</th>\n",
       "      <td>6.255000e+03</td>\n",
       "      <td>6255.000000</td>\n",
       "      <td>6255.000000</td>\n",
       "      <td>6255.000000</td>\n",
       "      <td>6255.000000</td>\n",
       "      <td>6255.000000</td>\n",
       "      <td>6255.000000</td>\n",
       "      <td>6255.000000</td>\n",
       "      <td>6255.000000</td>\n",
       "    </tr>\n",
       "    <tr>\n",
       "      <th>mean</th>\n",
       "      <td>2.684187e+07</td>\n",
       "      <td>1185.625260</td>\n",
       "      <td>19.156772</td>\n",
       "      <td>72.868642</td>\n",
       "      <td>2.452278</td>\n",
       "      <td>2.425580</td>\n",
       "      <td>0.821583</td>\n",
       "      <td>0.821583</td>\n",
       "      <td>0.821583</td>\n",
       "    </tr>\n",
       "    <tr>\n",
       "      <th>std</th>\n",
       "      <td>2.788831e+07</td>\n",
       "      <td>636.973259</td>\n",
       "      <td>0.109447</td>\n",
       "      <td>0.058614</td>\n",
       "      <td>0.749534</td>\n",
       "      <td>0.762604</td>\n",
       "      <td>1.291957</td>\n",
       "      <td>1.291957</td>\n",
       "      <td>1.291957</td>\n",
       "    </tr>\n",
       "    <tr>\n",
       "      <th>min</th>\n",
       "      <td>1.500000e+06</td>\n",
       "      <td>503.000000</td>\n",
       "      <td>18.873713</td>\n",
       "      <td>72.754080</td>\n",
       "      <td>2.000000</td>\n",
       "      <td>0.000000</td>\n",
       "      <td>0.000000</td>\n",
       "      <td>0.000000</td>\n",
       "      <td>0.000000</td>\n",
       "    </tr>\n",
       "    <tr>\n",
       "      <th>25%</th>\n",
       "      <td>1.300000e+07</td>\n",
       "      <td>846.500000</td>\n",
       "      <td>19.081509</td>\n",
       "      <td>72.832930</td>\n",
       "      <td>2.000000</td>\n",
       "      <td>2.000000</td>\n",
       "      <td>0.000000</td>\n",
       "      <td>0.000000</td>\n",
       "      <td>0.000000</td>\n",
       "    </tr>\n",
       "    <tr>\n",
       "      <th>50%</th>\n",
       "      <td>1.900000e+07</td>\n",
       "      <td>1000.000000</td>\n",
       "      <td>19.147269</td>\n",
       "      <td>72.858019</td>\n",
       "      <td>2.000000</td>\n",
       "      <td>2.000000</td>\n",
       "      <td>0.000000</td>\n",
       "      <td>0.000000</td>\n",
       "      <td>0.000000</td>\n",
       "    </tr>\n",
       "    <tr>\n",
       "      <th>75%</th>\n",
       "      <td>3.000000e+07</td>\n",
       "      <td>1300.000000</td>\n",
       "      <td>19.213054</td>\n",
       "      <td>72.884691</td>\n",
       "      <td>3.000000</td>\n",
       "      <td>3.000000</td>\n",
       "      <td>1.000000</td>\n",
       "      <td>1.000000</td>\n",
       "      <td>1.000000</td>\n",
       "    </tr>\n",
       "    <tr>\n",
       "      <th>max</th>\n",
       "      <td>3.600000e+08</td>\n",
       "      <td>8000.000000</td>\n",
       "      <td>19.476239</td>\n",
       "      <td>73.197823</td>\n",
       "      <td>10.000000</td>\n",
       "      <td>10.000000</td>\n",
       "      <td>8.000000</td>\n",
       "      <td>8.000000</td>\n",
       "      <td>8.000000</td>\n",
       "    </tr>\n",
       "  </tbody>\n",
       "</table>\n",
       "</div>"
      ],
      "text/plain": [
       "              price         area     latitude    longitude     bedrooms  \\\n",
       "count  6.255000e+03  6255.000000  6255.000000  6255.000000  6255.000000   \n",
       "mean   2.684187e+07  1185.625260    19.156772    72.868642     2.452278   \n",
       "std    2.788831e+07   636.973259     0.109447     0.058614     0.749534   \n",
       "min    1.500000e+06   503.000000    18.873713    72.754080     2.000000   \n",
       "25%    1.300000e+07   846.500000    19.081509    72.832930     2.000000   \n",
       "50%    1.900000e+07  1000.000000    19.147269    72.858019     2.000000   \n",
       "75%    3.000000e+07  1300.000000    19.213054    72.884691     3.000000   \n",
       "max    3.600000e+08  8000.000000    19.476239    73.197823    10.000000   \n",
       "\n",
       "         bathrooms      balcony      parking         lift  \n",
       "count  6255.000000  6255.000000  6255.000000  6255.000000  \n",
       "mean      2.425580     0.821583     0.821583     0.821583  \n",
       "std       0.762604     1.291957     1.291957     1.291957  \n",
       "min       0.000000     0.000000     0.000000     0.000000  \n",
       "25%       2.000000     0.000000     0.000000     0.000000  \n",
       "50%       2.000000     0.000000     0.000000     0.000000  \n",
       "75%       3.000000     1.000000     1.000000     1.000000  \n",
       "max      10.000000     8.000000     8.000000     8.000000  "
      ]
     },
     "execution_count": 9,
     "metadata": {},
     "output_type": "execute_result"
    }
   ],
   "source": [
    "data.describe()"
   ]
  },
  {
   "cell_type": "code",
   "execution_count": 10,
   "id": "8436bd36-7b29-469f-8a55-a6e1ec66eadf",
   "metadata": {},
   "outputs": [],
   "source": [
    "data['price']= data['price'].astype(int)\n",
    "data['bedrooms']= data['bedrooms'].astype(int)\n",
    "data['bathrooms']= data['bathrooms'].astype(int)\n",
    "data['balcony']= data['balcony'].astype(int)\n",
    "data['parking']= data['parking'].astype(int)\n",
    "data['lift']= data['lift'].astype(int)\n",
    "data['area']= data['area'].astype(int)"
   ]
  },
  {
   "cell_type": "code",
   "execution_count": 11,
   "id": "8e542736-4c7a-49b9-8081-ea515afaaa06",
   "metadata": {},
   "outputs": [
    {
     "name": "stdout",
     "output_type": "stream",
     "text": [
      "<class 'pandas.core.frame.DataFrame'>\n",
      "RangeIndex: 6255 entries, 0 to 6254\n",
      "Data columns (total 13 columns):\n",
      " #   Column            Non-Null Count  Dtype  \n",
      "---  ------            --------------  -----  \n",
      " 0   price             6255 non-null   int32  \n",
      " 1   area              6255 non-null   int32  \n",
      " 2   latitude          6255 non-null   float64\n",
      " 3   longitude         6255 non-null   float64\n",
      " 4   bedrooms          6255 non-null   int32  \n",
      " 5   bathrooms         6255 non-null   int32  \n",
      " 6   balcony           6255 non-null   int32  \n",
      " 7   status            5774 non-null   object \n",
      " 8   new_or_old        6255 non-null   object \n",
      " 9   parking           6255 non-null   int32  \n",
      " 10  furnished_status  3600 non-null   object \n",
      " 11  lift              6255 non-null   int32  \n",
      " 12  type_of_building  6255 non-null   object \n",
      "dtypes: float64(2), int32(7), object(4)\n",
      "memory usage: 464.4+ KB\n"
     ]
    }
   ],
   "source": [
    "data.info()"
   ]
  },
  {
   "cell_type": "code",
   "execution_count": 12,
   "id": "5b653219-036d-48ec-bd0d-4b672e20efb6",
   "metadata": {},
   "outputs": [],
   "source": [
    "data['status']= data['status'].fillna(-1)\n",
    "data['furnished_status']= data['furnished_status'].fillna(-1)"
   ]
  },
  {
   "cell_type": "code",
   "execution_count": 13,
   "id": "e6d16a6e-657b-4e19-a195-a94cb9b32a54",
   "metadata": {},
   "outputs": [
    {
     "name": "stdout",
     "output_type": "stream",
     "text": [
      "<class 'pandas.core.frame.DataFrame'>\n",
      "RangeIndex: 6255 entries, 0 to 6254\n",
      "Data columns (total 13 columns):\n",
      " #   Column            Non-Null Count  Dtype  \n",
      "---  ------            --------------  -----  \n",
      " 0   price             6255 non-null   int32  \n",
      " 1   area              6255 non-null   int32  \n",
      " 2   latitude          6255 non-null   float64\n",
      " 3   longitude         6255 non-null   float64\n",
      " 4   bedrooms          6255 non-null   int32  \n",
      " 5   bathrooms         6255 non-null   int32  \n",
      " 6   balcony           6255 non-null   int32  \n",
      " 7   status            6255 non-null   object \n",
      " 8   new_or_old        6255 non-null   object \n",
      " 9   parking           6255 non-null   int32  \n",
      " 10  furnished_status  6255 non-null   object \n",
      " 11  lift              6255 non-null   int32  \n",
      " 12  type_of_building  6255 non-null   object \n",
      "dtypes: float64(2), int32(7), object(4)\n",
      "memory usage: 464.4+ KB\n"
     ]
    }
   ],
   "source": [
    "data.info()"
   ]
  },
  {
   "cell_type": "code",
   "execution_count": 14,
   "id": "0dd45153-1247-41e0-a3c0-ba2dd61fe741",
   "metadata": {},
   "outputs": [
    {
     "data": {
      "text/html": [
       "<div>\n",
       "<style scoped>\n",
       "    .dataframe tbody tr th:only-of-type {\n",
       "        vertical-align: middle;\n",
       "    }\n",
       "\n",
       "    .dataframe tbody tr th {\n",
       "        vertical-align: top;\n",
       "    }\n",
       "\n",
       "    .dataframe thead th {\n",
       "        text-align: right;\n",
       "    }\n",
       "</style>\n",
       "<table border=\"1\" class=\"dataframe\">\n",
       "  <thead>\n",
       "    <tr style=\"text-align: right;\">\n",
       "      <th></th>\n",
       "      <th>price</th>\n",
       "      <th>area</th>\n",
       "      <th>latitude</th>\n",
       "      <th>longitude</th>\n",
       "      <th>bedrooms</th>\n",
       "      <th>bathrooms</th>\n",
       "      <th>balcony</th>\n",
       "      <th>parking</th>\n",
       "      <th>lift</th>\n",
       "    </tr>\n",
       "  </thead>\n",
       "  <tbody>\n",
       "    <tr>\n",
       "      <th>count</th>\n",
       "      <td>6.255000e+03</td>\n",
       "      <td>6255.000000</td>\n",
       "      <td>6255.000000</td>\n",
       "      <td>6255.000000</td>\n",
       "      <td>6255.000000</td>\n",
       "      <td>6255.000000</td>\n",
       "      <td>6255.000000</td>\n",
       "      <td>6255.000000</td>\n",
       "      <td>6255.000000</td>\n",
       "    </tr>\n",
       "    <tr>\n",
       "      <th>mean</th>\n",
       "      <td>2.684187e+07</td>\n",
       "      <td>1185.625260</td>\n",
       "      <td>19.156772</td>\n",
       "      <td>72.868642</td>\n",
       "      <td>2.452278</td>\n",
       "      <td>2.425580</td>\n",
       "      <td>0.821583</td>\n",
       "      <td>0.821583</td>\n",
       "      <td>0.821583</td>\n",
       "    </tr>\n",
       "    <tr>\n",
       "      <th>std</th>\n",
       "      <td>2.788831e+07</td>\n",
       "      <td>636.973259</td>\n",
       "      <td>0.109447</td>\n",
       "      <td>0.058614</td>\n",
       "      <td>0.749534</td>\n",
       "      <td>0.762604</td>\n",
       "      <td>1.291957</td>\n",
       "      <td>1.291957</td>\n",
       "      <td>1.291957</td>\n",
       "    </tr>\n",
       "    <tr>\n",
       "      <th>min</th>\n",
       "      <td>1.500000e+06</td>\n",
       "      <td>503.000000</td>\n",
       "      <td>18.873713</td>\n",
       "      <td>72.754080</td>\n",
       "      <td>2.000000</td>\n",
       "      <td>0.000000</td>\n",
       "      <td>0.000000</td>\n",
       "      <td>0.000000</td>\n",
       "      <td>0.000000</td>\n",
       "    </tr>\n",
       "    <tr>\n",
       "      <th>25%</th>\n",
       "      <td>1.300000e+07</td>\n",
       "      <td>846.500000</td>\n",
       "      <td>19.081509</td>\n",
       "      <td>72.832930</td>\n",
       "      <td>2.000000</td>\n",
       "      <td>2.000000</td>\n",
       "      <td>0.000000</td>\n",
       "      <td>0.000000</td>\n",
       "      <td>0.000000</td>\n",
       "    </tr>\n",
       "    <tr>\n",
       "      <th>50%</th>\n",
       "      <td>1.900000e+07</td>\n",
       "      <td>1000.000000</td>\n",
       "      <td>19.147269</td>\n",
       "      <td>72.858019</td>\n",
       "      <td>2.000000</td>\n",
       "      <td>2.000000</td>\n",
       "      <td>0.000000</td>\n",
       "      <td>0.000000</td>\n",
       "      <td>0.000000</td>\n",
       "    </tr>\n",
       "    <tr>\n",
       "      <th>75%</th>\n",
       "      <td>3.000000e+07</td>\n",
       "      <td>1300.000000</td>\n",
       "      <td>19.213054</td>\n",
       "      <td>72.884691</td>\n",
       "      <td>3.000000</td>\n",
       "      <td>3.000000</td>\n",
       "      <td>1.000000</td>\n",
       "      <td>1.000000</td>\n",
       "      <td>1.000000</td>\n",
       "    </tr>\n",
       "    <tr>\n",
       "      <th>max</th>\n",
       "      <td>3.600000e+08</td>\n",
       "      <td>8000.000000</td>\n",
       "      <td>19.476239</td>\n",
       "      <td>73.197823</td>\n",
       "      <td>10.000000</td>\n",
       "      <td>10.000000</td>\n",
       "      <td>8.000000</td>\n",
       "      <td>8.000000</td>\n",
       "      <td>8.000000</td>\n",
       "    </tr>\n",
       "  </tbody>\n",
       "</table>\n",
       "</div>"
      ],
      "text/plain": [
       "              price         area     latitude    longitude     bedrooms  \\\n",
       "count  6.255000e+03  6255.000000  6255.000000  6255.000000  6255.000000   \n",
       "mean   2.684187e+07  1185.625260    19.156772    72.868642     2.452278   \n",
       "std    2.788831e+07   636.973259     0.109447     0.058614     0.749534   \n",
       "min    1.500000e+06   503.000000    18.873713    72.754080     2.000000   \n",
       "25%    1.300000e+07   846.500000    19.081509    72.832930     2.000000   \n",
       "50%    1.900000e+07  1000.000000    19.147269    72.858019     2.000000   \n",
       "75%    3.000000e+07  1300.000000    19.213054    72.884691     3.000000   \n",
       "max    3.600000e+08  8000.000000    19.476239    73.197823    10.000000   \n",
       "\n",
       "         bathrooms      balcony      parking         lift  \n",
       "count  6255.000000  6255.000000  6255.000000  6255.000000  \n",
       "mean      2.425580     0.821583     0.821583     0.821583  \n",
       "std       0.762604     1.291957     1.291957     1.291957  \n",
       "min       0.000000     0.000000     0.000000     0.000000  \n",
       "25%       2.000000     0.000000     0.000000     0.000000  \n",
       "50%       2.000000     0.000000     0.000000     0.000000  \n",
       "75%       3.000000     1.000000     1.000000     1.000000  \n",
       "max      10.000000     8.000000     8.000000     8.000000  "
      ]
     },
     "execution_count": 14,
     "metadata": {},
     "output_type": "execute_result"
    }
   ],
   "source": [
    "data.describe()"
   ]
  },
  {
   "cell_type": "code",
   "execution_count": 15,
   "id": "79e3e84c-deb3-439b-a227-b79b106b8c3f",
   "metadata": {},
   "outputs": [
    {
     "data": {
      "image/png": "[encoded data removed]",
      "text/plain": [
       "<Figure size 640x480 with 1 Axes>"
      ]
     },
     "metadata": {},
     "output_type": "display_data"
    },
    {
     "data": {
      "image/png": "[encoded data removed]",
      "text/plain": [
       "<Figure size 640x480 with 1 Axes>"
      ]
     },
     "metadata": {},
     "output_type": "display_data"
    },
    {
     "data": {
      "image/png": "[encoded data removed]",
      "text/plain": [
       "<Figure size 640x480 with 1 Axes>"
      ]
     },
     "metadata": {},
     "output_type": "display_data"
    },
    {
     "data": {
      "image/png": "[encoded data removed]",
      "text/plain": [
       "<Figure size 640x480 with 1 Axes>"
      ]
     },
     "metadata": {},
     "output_type": "display_data"
    },
    {
     "data": {
      "image/png": "[encoded data removed]",
      "text/plain": [
       "<Figure size 640x480 with 1 Axes>"
      ]
     },
     "metadata": {},
     "output_type": "display_data"
    },
    {
     "data": {
      "image/png": "[encoded data removed]",
      "text/plain": [
       "<Figure size 640x480 with 1 Axes>"
      ]
     },
     "metadata": {},
     "output_type": "display_data"
    },
    {
     "data": {
      "image/png": "[encoded data removed]",
      "text/plain": [
       "<Figure size 640x480 with 1 Axes>"
      ]
     },
     "metadata": {},
     "output_type": "display_data"
    },
    {
     "data": {
      "image/png": "[encoded data removed]",
      "text/plain": [
       "<Figure size 640x480 with 1 Axes>"
      ]
     },
     "metadata": {},
     "output_type": "display_data"
    },
    {
     "data": {
      "image/png": "[encoded data removed]",
      "text/plain": [
       "<Figure size 640x480 with 1 Axes>"
      ]
     },
     "metadata": {},
     "output_type": "display_data"
    }
   ],
   "source": [
    "columns = ['price','area','latitude','longitude','bedrooms','bathrooms','balcony','parking','lift']\n",
    "for column in columns:\n",
    "    data.hist(column)"
   ]
  },
  {
   "cell_type": "code",
   "execution_count": 16,
   "id": "af1d74f5-8391-49f2-8b35-c8be07e37a74",
   "metadata": {},
   "outputs": [
    {
     "data": {
      "text/html": [
       "<div>\n",
       "<style scoped>\n",
       "    .dataframe tbody tr th:only-of-type {\n",
       "        vertical-align: middle;\n",
       "    }\n",
       "\n",
       "    .dataframe tbody tr th {\n",
       "        vertical-align: top;\n",
       "    }\n",
       "\n",
       "    .dataframe thead th {\n",
       "        text-align: right;\n",
       "    }\n",
       "</style>\n",
       "<table border=\"1\" class=\"dataframe\">\n",
       "  <thead>\n",
       "    <tr style=\"text-align: right;\">\n",
       "      <th></th>\n",
       "      <th>price</th>\n",
       "      <th>area</th>\n",
       "      <th>latitude</th>\n",
       "      <th>longitude</th>\n",
       "      <th>bedrooms</th>\n",
       "      <th>bathrooms</th>\n",
       "      <th>balcony</th>\n",
       "      <th>parking</th>\n",
       "      <th>lift</th>\n",
       "    </tr>\n",
       "  </thead>\n",
       "  <tbody>\n",
       "    <tr>\n",
       "      <th>0</th>\n",
       "      <td>22400000</td>\n",
       "      <td>629</td>\n",
       "      <td>19.032800</td>\n",
       "      <td>72.896357</td>\n",
       "      <td>2</td>\n",
       "      <td>2</td>\n",
       "      <td>0</td>\n",
       "      <td>0</td>\n",
       "      <td>0</td>\n",
       "    </tr>\n",
       "    <tr>\n",
       "      <th>1</th>\n",
       "      <td>35000000</td>\n",
       "      <td>974</td>\n",
       "      <td>19.032800</td>\n",
       "      <td>72.896357</td>\n",
       "      <td>3</td>\n",
       "      <td>2</td>\n",
       "      <td>0</td>\n",
       "      <td>0</td>\n",
       "      <td>0</td>\n",
       "    </tr>\n",
       "    <tr>\n",
       "      <th>2</th>\n",
       "      <td>31700000</td>\n",
       "      <td>968</td>\n",
       "      <td>19.085600</td>\n",
       "      <td>72.909277</td>\n",
       "      <td>3</td>\n",
       "      <td>3</td>\n",
       "      <td>0</td>\n",
       "      <td>0</td>\n",
       "      <td>0</td>\n",
       "    </tr>\n",
       "    <tr>\n",
       "      <th>3</th>\n",
       "      <td>18700000</td>\n",
       "      <td>629</td>\n",
       "      <td>19.155756</td>\n",
       "      <td>72.846862</td>\n",
       "      <td>2</td>\n",
       "      <td>2</td>\n",
       "      <td>2</td>\n",
       "      <td>2</td>\n",
       "      <td>2</td>\n",
       "    </tr>\n",
       "    <tr>\n",
       "      <th>4</th>\n",
       "      <td>13500000</td>\n",
       "      <td>1090</td>\n",
       "      <td>19.177555</td>\n",
       "      <td>72.849887</td>\n",
       "      <td>2</td>\n",
       "      <td>2</td>\n",
       "      <td>0</td>\n",
       "      <td>0</td>\n",
       "      <td>0</td>\n",
       "    </tr>\n",
       "    <tr>\n",
       "      <th>...</th>\n",
       "      <td>...</td>\n",
       "      <td>...</td>\n",
       "      <td>...</td>\n",
       "      <td>...</td>\n",
       "      <td>...</td>\n",
       "      <td>...</td>\n",
       "      <td>...</td>\n",
       "      <td>...</td>\n",
       "      <td>...</td>\n",
       "    </tr>\n",
       "    <tr>\n",
       "      <th>6250</th>\n",
       "      <td>19500000</td>\n",
       "      <td>810</td>\n",
       "      <td>19.138320</td>\n",
       "      <td>72.810020</td>\n",
       "      <td>2</td>\n",
       "      <td>2</td>\n",
       "      <td>0</td>\n",
       "      <td>0</td>\n",
       "      <td>0</td>\n",
       "    </tr>\n",
       "    <tr>\n",
       "      <th>6251</th>\n",
       "      <td>22000000</td>\n",
       "      <td>1400</td>\n",
       "      <td>19.221920</td>\n",
       "      <td>72.854250</td>\n",
       "      <td>3</td>\n",
       "      <td>3</td>\n",
       "      <td>1</td>\n",
       "      <td>1</td>\n",
       "      <td>1</td>\n",
       "    </tr>\n",
       "    <tr>\n",
       "      <th>6252</th>\n",
       "      <td>20000000</td>\n",
       "      <td>750</td>\n",
       "      <td>19.144320</td>\n",
       "      <td>72.824111</td>\n",
       "      <td>2</td>\n",
       "      <td>2</td>\n",
       "      <td>0</td>\n",
       "      <td>0</td>\n",
       "      <td>0</td>\n",
       "    </tr>\n",
       "    <tr>\n",
       "      <th>6253</th>\n",
       "      <td>11000000</td>\n",
       "      <td>700</td>\n",
       "      <td>19.047201</td>\n",
       "      <td>72.872225</td>\n",
       "      <td>2</td>\n",
       "      <td>2</td>\n",
       "      <td>0</td>\n",
       "      <td>0</td>\n",
       "      <td>0</td>\n",
       "    </tr>\n",
       "    <tr>\n",
       "      <th>6254</th>\n",
       "      <td>15000000</td>\n",
       "      <td>900</td>\n",
       "      <td>19.168818</td>\n",
       "      <td>72.936375</td>\n",
       "      <td>2</td>\n",
       "      <td>2</td>\n",
       "      <td>0</td>\n",
       "      <td>0</td>\n",
       "      <td>0</td>\n",
       "    </tr>\n",
       "  </tbody>\n",
       "</table>\n",
       "<p>6255 rows × 9 columns</p>\n",
       "</div>"
      ],
      "text/plain": [
       "         price  area   latitude  longitude  bedrooms  bathrooms  balcony  \\\n",
       "0     22400000   629  19.032800  72.896357         2          2        0   \n",
       "1     35000000   974  19.032800  72.896357         3          2        0   \n",
       "2     31700000   968  19.085600  72.909277         3          3        0   \n",
       "3     18700000   629  19.155756  72.846862         2          2        2   \n",
       "4     13500000  1090  19.177555  72.849887         2          2        0   \n",
       "...        ...   ...        ...        ...       ...        ...      ...   \n",
       "6250  19500000   810  19.138320  72.810020         2          2        0   \n",
       "6251  22000000  1400  19.221920  72.854250         3          3        1   \n",
       "6252  20000000   750  19.144320  72.824111         2          2        0   \n",
       "6253  11000000   700  19.047201  72.872225         2          2        0   \n",
       "6254  15000000   900  19.168818  72.936375         2          2        0   \n",
       "\n",
       "      parking  lift  \n",
       "0           0     0  \n",
       "1           0     0  \n",
       "2           0     0  \n",
       "3           2     2  \n",
       "4           0     0  \n",
       "...       ...   ...  \n",
       "6250        0     0  \n",
       "6251        1     1  \n",
       "6252        0     0  \n",
       "6253        0     0  \n",
       "6254        0     0  \n",
       "\n",
       "[6255 rows x 9 columns]"
      ]
     },
     "execution_count": 16,
     "metadata": {},
     "output_type": "execute_result"
    }
   ],
   "source": [
    "outlier = data[['price','area','latitude','longitude','bedrooms','bathrooms','balcony','parking','lift']]\n",
    "outlier"
   ]
  },
  {
   "cell_type": "code",
   "execution_count": 17,
   "id": "1b57f525-70b4-4267-98f7-f85128e813a7",
   "metadata": {},
   "outputs": [
    {
     "data": {
      "text/plain": [
       "price        1.300000e+07\n",
       "area         8.465000e+02\n",
       "latitude     1.908151e+01\n",
       "longitude    7.283293e+01\n",
       "bedrooms     2.000000e+00\n",
       "bathrooms    2.000000e+00\n",
       "balcony      0.000000e+00\n",
       "parking      0.000000e+00\n",
       "lift         0.000000e+00\n",
       "Name: 0.25, dtype: float64"
      ]
     },
     "execution_count": 17,
     "metadata": {},
     "output_type": "execute_result"
    }
   ],
   "source": [
    "Q1 = outlier.quantile(0.25)\n",
    "Q1"
   ]
  },
  {
   "cell_type": "code",
   "execution_count": 18,
   "id": "d1e98c26-986a-48de-bc96-324c79fb92b8",
   "metadata": {},
   "outputs": [
    {
     "data": {
      "text/plain": [
       "price        3.000000e+07\n",
       "area         1.300000e+03\n",
       "latitude     1.921305e+01\n",
       "longitude    7.288469e+01\n",
       "bedrooms     3.000000e+00\n",
       "bathrooms    3.000000e+00\n",
       "balcony      1.000000e+00\n",
       "parking      1.000000e+00\n",
       "lift         1.000000e+00\n",
       "Name: 0.75, dtype: float64"
      ]
     },
     "execution_count": 18,
     "metadata": {},
     "output_type": "execute_result"
    }
   ],
   "source": [
    "Q3 = outlier.quantile(0.75)\n",
    "Q3"
   ]
  },
  {
   "cell_type": "code",
   "execution_count": 19,
   "id": "75d815da-a531-4ac3-8f22-9343ea5f948c",
   "metadata": {},
   "outputs": [],
   "source": [
    "IQR = Q3-Q1"
   ]
  },
  {
   "cell_type": "code",
   "execution_count": 20,
   "id": "04a661bf-0d1e-41b8-929f-fd42bb31bed0",
   "metadata": {},
   "outputs": [
    {
     "data": {
      "text/html": [
       "<div>\n",
       "<style scoped>\n",
       "    .dataframe tbody tr th:only-of-type {\n",
       "        vertical-align: middle;\n",
       "    }\n",
       "\n",
       "    .dataframe tbody tr th {\n",
       "        vertical-align: top;\n",
       "    }\n",
       "\n",
       "    .dataframe thead th {\n",
       "        text-align: right;\n",
       "    }\n",
       "</style>\n",
       "<table border=\"1\" class=\"dataframe\">\n",
       "  <thead>\n",
       "    <tr style=\"text-align: right;\">\n",
       "      <th></th>\n",
       "      <th>price</th>\n",
       "      <th>area</th>\n",
       "      <th>latitude</th>\n",
       "      <th>longitude</th>\n",
       "      <th>bedrooms</th>\n",
       "      <th>bathrooms</th>\n",
       "      <th>balcony</th>\n",
       "      <th>parking</th>\n",
       "      <th>lift</th>\n",
       "    </tr>\n",
       "  </thead>\n",
       "  <tbody>\n",
       "    <tr>\n",
       "      <th>0</th>\n",
       "      <td>22400000</td>\n",
       "      <td>629</td>\n",
       "      <td>19.032800</td>\n",
       "      <td>72.896357</td>\n",
       "      <td>2</td>\n",
       "      <td>2</td>\n",
       "      <td>0</td>\n",
       "      <td>0</td>\n",
       "      <td>0</td>\n",
       "    </tr>\n",
       "    <tr>\n",
       "      <th>1</th>\n",
       "      <td>35000000</td>\n",
       "      <td>974</td>\n",
       "      <td>19.032800</td>\n",
       "      <td>72.896357</td>\n",
       "      <td>3</td>\n",
       "      <td>2</td>\n",
       "      <td>0</td>\n",
       "      <td>0</td>\n",
       "      <td>0</td>\n",
       "    </tr>\n",
       "    <tr>\n",
       "      <th>2</th>\n",
       "      <td>31700000</td>\n",
       "      <td>968</td>\n",
       "      <td>19.085600</td>\n",
       "      <td>72.909277</td>\n",
       "      <td>3</td>\n",
       "      <td>3</td>\n",
       "      <td>0</td>\n",
       "      <td>0</td>\n",
       "      <td>0</td>\n",
       "    </tr>\n",
       "    <tr>\n",
       "      <th>3</th>\n",
       "      <td>18700000</td>\n",
       "      <td>629</td>\n",
       "      <td>19.155756</td>\n",
       "      <td>72.846862</td>\n",
       "      <td>2</td>\n",
       "      <td>2</td>\n",
       "      <td>2</td>\n",
       "      <td>2</td>\n",
       "      <td>2</td>\n",
       "    </tr>\n",
       "    <tr>\n",
       "      <th>4</th>\n",
       "      <td>13500000</td>\n",
       "      <td>1090</td>\n",
       "      <td>19.177555</td>\n",
       "      <td>72.849887</td>\n",
       "      <td>2</td>\n",
       "      <td>2</td>\n",
       "      <td>0</td>\n",
       "      <td>0</td>\n",
       "      <td>0</td>\n",
       "    </tr>\n",
       "    <tr>\n",
       "      <th>...</th>\n",
       "      <td>...</td>\n",
       "      <td>...</td>\n",
       "      <td>...</td>\n",
       "      <td>...</td>\n",
       "      <td>...</td>\n",
       "      <td>...</td>\n",
       "      <td>...</td>\n",
       "      <td>...</td>\n",
       "      <td>...</td>\n",
       "    </tr>\n",
       "    <tr>\n",
       "      <th>6250</th>\n",
       "      <td>19500000</td>\n",
       "      <td>810</td>\n",
       "      <td>19.138320</td>\n",
       "      <td>72.810020</td>\n",
       "      <td>2</td>\n",
       "      <td>2</td>\n",
       "      <td>0</td>\n",
       "      <td>0</td>\n",
       "      <td>0</td>\n",
       "    </tr>\n",
       "    <tr>\n",
       "      <th>6251</th>\n",
       "      <td>22000000</td>\n",
       "      <td>1400</td>\n",
       "      <td>19.221920</td>\n",
       "      <td>72.854250</td>\n",
       "      <td>3</td>\n",
       "      <td>3</td>\n",
       "      <td>1</td>\n",
       "      <td>1</td>\n",
       "      <td>1</td>\n",
       "    </tr>\n",
       "    <tr>\n",
       "      <th>6252</th>\n",
       "      <td>20000000</td>\n",
       "      <td>750</td>\n",
       "      <td>19.144320</td>\n",
       "      <td>72.824111</td>\n",
       "      <td>2</td>\n",
       "      <td>2</td>\n",
       "      <td>0</td>\n",
       "      <td>0</td>\n",
       "      <td>0</td>\n",
       "    </tr>\n",
       "    <tr>\n",
       "      <th>6253</th>\n",
       "      <td>11000000</td>\n",
       "      <td>700</td>\n",
       "      <td>19.047201</td>\n",
       "      <td>72.872225</td>\n",
       "      <td>2</td>\n",
       "      <td>2</td>\n",
       "      <td>0</td>\n",
       "      <td>0</td>\n",
       "      <td>0</td>\n",
       "    </tr>\n",
       "    <tr>\n",
       "      <th>6254</th>\n",
       "      <td>15000000</td>\n",
       "      <td>900</td>\n",
       "      <td>19.168818</td>\n",
       "      <td>72.936375</td>\n",
       "      <td>2</td>\n",
       "      <td>2</td>\n",
       "      <td>0</td>\n",
       "      <td>0</td>\n",
       "      <td>0</td>\n",
       "    </tr>\n",
       "  </tbody>\n",
       "</table>\n",
       "<p>4428 rows × 9 columns</p>\n",
       "</div>"
      ],
      "text/plain": [
       "         price  area   latitude  longitude  bedrooms  bathrooms  balcony  \\\n",
       "0     22400000   629  19.032800  72.896357         2          2        0   \n",
       "1     35000000   974  19.032800  72.896357         3          2        0   \n",
       "2     31700000   968  19.085600  72.909277         3          3        0   \n",
       "3     18700000   629  19.155756  72.846862         2          2        2   \n",
       "4     13500000  1090  19.177555  72.849887         2          2        0   \n",
       "...        ...   ...        ...        ...       ...        ...      ...   \n",
       "6250  19500000   810  19.138320  72.810020         2          2        0   \n",
       "6251  22000000  1400  19.221920  72.854250         3          3        1   \n",
       "6252  20000000   750  19.144320  72.824111         2          2        0   \n",
       "6253  11000000   700  19.047201  72.872225         2          2        0   \n",
       "6254  15000000   900  19.168818  72.936375         2          2        0   \n",
       "\n",
       "      parking  lift  \n",
       "0           0     0  \n",
       "1           0     0  \n",
       "2           0     0  \n",
       "3           2     2  \n",
       "4           0     0  \n",
       "...       ...   ...  \n",
       "6250        0     0  \n",
       "6251        1     1  \n",
       "6252        0     0  \n",
       "6253        0     0  \n",
       "6254        0     0  \n",
       "\n",
       "[4428 rows x 9 columns]"
      ]
     },
     "execution_count": 20,
     "metadata": {},
     "output_type": "execute_result"
    }
   ],
   "source": [
    "data_filtered = outlier[~((outlier < (Q1 - 1.5 * IQR)) |(outlier > (Q3 + 1.5 * IQR))).any(axis=1)]\n",
    "data_filtered"
   ]
  },
  {
   "cell_type": "code",
   "execution_count": 21,
   "id": "54f4be66-4042-4b35-94c9-cf5441478857",
   "metadata": {},
   "outputs": [],
   "source": [
    "index_list = list(data_filtered.index.values)"
   ]
  },
  {
   "cell_type": "code",
   "execution_count": 22,
   "id": "3d70d346-7aed-4675-a46d-aec52fb1a30d",
   "metadata": {},
   "outputs": [
    {
     "data": {
      "text/html": [
       "<div>\n",
       "<style scoped>\n",
       "    .dataframe tbody tr th:only-of-type {\n",
       "        vertical-align: middle;\n",
       "    }\n",
       "\n",
       "    .dataframe tbody tr th {\n",
       "        vertical-align: top;\n",
       "    }\n",
       "\n",
       "    .dataframe thead th {\n",
       "        text-align: right;\n",
       "    }\n",
       "</style>\n",
       "<table border=\"1\" class=\"dataframe\">\n",
       "  <thead>\n",
       "    <tr style=\"text-align: right;\">\n",
       "      <th></th>\n",
       "      <th>price</th>\n",
       "      <th>area</th>\n",
       "      <th>latitude</th>\n",
       "      <th>longitude</th>\n",
       "      <th>bedrooms</th>\n",
       "      <th>bathrooms</th>\n",
       "      <th>balcony</th>\n",
       "      <th>status</th>\n",
       "      <th>new_or_old</th>\n",
       "      <th>parking</th>\n",
       "      <th>furnished_status</th>\n",
       "      <th>lift</th>\n",
       "      <th>type_of_building</th>\n",
       "    </tr>\n",
       "  </thead>\n",
       "  <tbody>\n",
       "    <tr>\n",
       "      <th>0</th>\n",
       "      <td>22400000</td>\n",
       "      <td>629</td>\n",
       "      <td>19.032800</td>\n",
       "      <td>72.896357</td>\n",
       "      <td>2</td>\n",
       "      <td>2</td>\n",
       "      <td>0</td>\n",
       "      <td>Under Construction</td>\n",
       "      <td>New Property</td>\n",
       "      <td>0</td>\n",
       "      <td>-1</td>\n",
       "      <td>0</td>\n",
       "      <td>Flat</td>\n",
       "    </tr>\n",
       "    <tr>\n",
       "      <th>1</th>\n",
       "      <td>35000000</td>\n",
       "      <td>974</td>\n",
       "      <td>19.032800</td>\n",
       "      <td>72.896357</td>\n",
       "      <td>3</td>\n",
       "      <td>2</td>\n",
       "      <td>0</td>\n",
       "      <td>Under Construction</td>\n",
       "      <td>New Property</td>\n",
       "      <td>0</td>\n",
       "      <td>-1</td>\n",
       "      <td>0</td>\n",
       "      <td>Flat</td>\n",
       "    </tr>\n",
       "    <tr>\n",
       "      <th>2</th>\n",
       "      <td>31700000</td>\n",
       "      <td>968</td>\n",
       "      <td>19.085600</td>\n",
       "      <td>72.909277</td>\n",
       "      <td>3</td>\n",
       "      <td>3</td>\n",
       "      <td>0</td>\n",
       "      <td>Under Construction</td>\n",
       "      <td>New Property</td>\n",
       "      <td>0</td>\n",
       "      <td>-1</td>\n",
       "      <td>0</td>\n",
       "      <td>Flat</td>\n",
       "    </tr>\n",
       "    <tr>\n",
       "      <th>3</th>\n",
       "      <td>18700000</td>\n",
       "      <td>629</td>\n",
       "      <td>19.155756</td>\n",
       "      <td>72.846862</td>\n",
       "      <td>2</td>\n",
       "      <td>2</td>\n",
       "      <td>2</td>\n",
       "      <td>Ready to Move</td>\n",
       "      <td>New Property</td>\n",
       "      <td>2</td>\n",
       "      <td>-1</td>\n",
       "      <td>2</td>\n",
       "      <td>Flat</td>\n",
       "    </tr>\n",
       "    <tr>\n",
       "      <th>4</th>\n",
       "      <td>13500000</td>\n",
       "      <td>1090</td>\n",
       "      <td>19.177555</td>\n",
       "      <td>72.849887</td>\n",
       "      <td>2</td>\n",
       "      <td>2</td>\n",
       "      <td>0</td>\n",
       "      <td>-1</td>\n",
       "      <td>New Property</td>\n",
       "      <td>0</td>\n",
       "      <td>Unfurnished</td>\n",
       "      <td>0</td>\n",
       "      <td>Flat</td>\n",
       "    </tr>\n",
       "  </tbody>\n",
       "</table>\n",
       "</div>"
      ],
      "text/plain": [
       "      price  area   latitude  longitude  bedrooms  bathrooms  balcony  \\\n",
       "0  22400000   629  19.032800  72.896357         2          2        0   \n",
       "1  35000000   974  19.032800  72.896357         3          2        0   \n",
       "2  31700000   968  19.085600  72.909277         3          3        0   \n",
       "3  18700000   629  19.155756  72.846862         2          2        2   \n",
       "4  13500000  1090  19.177555  72.849887         2          2        0   \n",
       "\n",
       "               status    new_or_old  parking furnished_status  lift  \\\n",
       "0  Under Construction  New Property        0               -1     0   \n",
       "1  Under Construction  New Property        0               -1     0   \n",
       "2  Under Construction  New Property        0               -1     0   \n",
       "3       Ready to Move  New Property        2               -1     2   \n",
       "4                  -1  New Property        0      Unfurnished     0   \n",
       "\n",
       "  type_of_building  \n",
       "0             Flat  \n",
       "1             Flat  \n",
       "2             Flat  \n",
       "3             Flat  \n",
       "4             Flat  "
      ]
     },
     "execution_count": 22,
     "metadata": {},
     "output_type": "execute_result"
    }
   ],
   "source": [
    "data_filtered = data[data.index.isin(index_list)]\n",
    "data_filtered.head()"
   ]
  },
  {
   "cell_type": "code",
   "execution_count": 23,
   "id": "4a72373c-512c-4229-96dd-654696190c9a",
   "metadata": {},
   "outputs": [
    {
     "data": {
      "image/png": "[encoded data removed]",
      "text/plain": [
       "<Figure size 640x480 with 1 Axes>"
      ]
     },
     "metadata": {},
     "output_type": "display_data"
    },
    {
     "data": {
      "image/png": "[encoded data removed]",
      "text/plain": [
       "<Figure size 640x480 with 1 Axes>"
      ]
     },
     "metadata": {},
     "output_type": "display_data"
    },
    {
     "data": {
      "image/png": "[encoded data removed]",
      "text/plain": [
       "<Figure size 640x480 with 1 Axes>"
      ]
     },
     "metadata": {},
     "output_type": "display_data"
    },
    {
     "data": {
      "image/png": "[encoded data removed]",
      "text/plain": [
       "<Figure size 640x480 with 1 Axes>"
      ]
     },
     "metadata": {},
     "output_type": "display_data"
    },
    {
     "data": {
      "image/png": "[encoded data removed]",
      "text/plain": [
       "<Figure size 640x480 with 1 Axes>"
      ]
     },
     "metadata": {},
     "output_type": "display_data"
    },
    {
     "data": {
      "image/png": "[encoded data removed]",
      "text/plain": [
       "<Figure size 640x480 with 1 Axes>"
      ]
     },
     "metadata": {},
     "output_type": "display_data"
    },
    {
     "data": {
      "image/png": "[encoded data removed]",
      "text/plain": [
       "<Figure size 640x480 with 1 Axes>"
      ]
     },
     "metadata": {},
     "output_type": "display_data"
    },
    {
     "data": {
      "image/png": "[encoded data removed]",
      "text/plain": [
       "<Figure size 640x480 with 1 Axes>"
      ]
     },
     "metadata": {},
     "output_type": "display_data"
    },
    {
     "data": {
      "image/png": "[encoded data removed]",
      "text/plain": [
       "<Figure size 640x480 with 1 Axes>"
      ]
     },
     "metadata": {},
     "output_type": "display_data"
    }
   ],
   "source": [
    "filtered_outlier = data_filtered[['price','area','latitude','longitude','bedrooms','bathrooms','balcony','parking','lift']]\n",
    "\n",
    "for col in filtered_outlier:\n",
    "    data_filtered.hist(col, bins=100)"
   ]
  },
  {
   "cell_type": "code",
   "execution_count": 24,
   "id": "22e5271e-f466-4b26-802f-0f1b8364ff36",
   "metadata": {},
   "outputs": [
    {
     "name": "stdout",
     "output_type": "stream",
     "text": [
      "[[<Axes: title={'center': 'price'}>]]\n",
      "[[<Axes: title={'center': 'price'}>]]\n"
     ]
    },
    {
     "data": {
      "image/png": "[encoded data removed]",
      "text/plain": [
       "<Figure size 640x480 with 1 Axes>"
      ]
     },
     "metadata": {},
     "output_type": "display_data"
    },
    {
     "data": {
      "image/png": "[encoded data removed]",
      "text/plain": [
       "<Figure size 640x480 with 1 Axes>"
      ]
     },
     "metadata": {},
     "output_type": "display_data"
    }
   ],
   "source": [
    "print (data.hist('price', bins=100));\n",
    "print (data_filtered.hist('price', bins=100));"
   ]
  },
  {
   "cell_type": "code",
   "execution_count": 25,
   "id": "ed371ee6-e983-4929-bd79-af6dc5c8d9a8",
   "metadata": {},
   "outputs": [
    {
     "name": "stdout",
     "output_type": "stream",
     "text": [
      "[[<Axes: title={'center': 'area'}>]]\n",
      "[[<Axes: title={'center': 'area'}>]]\n"
     ]
    },
    {
     "data": {
      "image/png": "[encoded data removed]",
      "text/plain": [
       "<Figure size 640x480 with 1 Axes>"
      ]
     },
     "metadata": {},
     "output_type": "display_data"
    },
    {
     "data": {
      "image/png": "[encoded data removed]",
      "text/plain": [
       "<Figure size 640x480 with 1 Axes>"
      ]
     },
     "metadata": {},
     "output_type": "display_data"
    }
   ],
   "source": [
    "print (data.hist('area', bins=100));\n",
    "print (data_filtered.hist('area', bins=100));"
   ]
  },
  {
   "cell_type": "code",
   "execution_count": 26,
   "id": "b8d35202-f5b9-47d6-8ccc-94da6f9745f0",
   "metadata": {},
   "outputs": [
    {
     "data": {
      "text/html": [
       "<div>\n",
       "<style scoped>\n",
       "    .dataframe tbody tr th:only-of-type {\n",
       "        vertical-align: middle;\n",
       "    }\n",
       "\n",
       "    .dataframe tbody tr th {\n",
       "        vertical-align: top;\n",
       "    }\n",
       "\n",
       "    .dataframe thead th {\n",
       "        text-align: right;\n",
       "    }\n",
       "</style>\n",
       "<table border=\"1\" class=\"dataframe\">\n",
       "  <thead>\n",
       "    <tr style=\"text-align: right;\">\n",
       "      <th></th>\n",
       "      <th>price</th>\n",
       "      <th>area</th>\n",
       "      <th>latitude</th>\n",
       "      <th>longitude</th>\n",
       "      <th>bedrooms</th>\n",
       "      <th>bathrooms</th>\n",
       "      <th>balcony</th>\n",
       "      <th>parking</th>\n",
       "      <th>lift</th>\n",
       "    </tr>\n",
       "  </thead>\n",
       "  <tbody>\n",
       "    <tr>\n",
       "      <th>price</th>\n",
       "      <td>1.000000</td>\n",
       "      <td>0.506439</td>\n",
       "      <td>-0.531531</td>\n",
       "      <td>-0.138363</td>\n",
       "      <td>0.431067</td>\n",
       "      <td>0.437313</td>\n",
       "      <td>0.039046</td>\n",
       "      <td>0.039046</td>\n",
       "      <td>0.039046</td>\n",
       "    </tr>\n",
       "    <tr>\n",
       "      <th>area</th>\n",
       "      <td>0.506439</td>\n",
       "      <td>1.000000</td>\n",
       "      <td>-0.055543</td>\n",
       "      <td>0.047363</td>\n",
       "      <td>0.616419</td>\n",
       "      <td>0.565345</td>\n",
       "      <td>0.137782</td>\n",
       "      <td>0.137782</td>\n",
       "      <td>0.137782</td>\n",
       "    </tr>\n",
       "    <tr>\n",
       "      <th>latitude</th>\n",
       "      <td>-0.531531</td>\n",
       "      <td>-0.055543</td>\n",
       "      <td>1.000000</td>\n",
       "      <td>-0.051398</td>\n",
       "      <td>-0.026275</td>\n",
       "      <td>-0.050603</td>\n",
       "      <td>0.010959</td>\n",
       "      <td>0.010959</td>\n",
       "      <td>0.010959</td>\n",
       "    </tr>\n",
       "    <tr>\n",
       "      <th>longitude</th>\n",
       "      <td>-0.138363</td>\n",
       "      <td>0.047363</td>\n",
       "      <td>-0.051398</td>\n",
       "      <td>1.000000</td>\n",
       "      <td>0.027393</td>\n",
       "      <td>-0.006743</td>\n",
       "      <td>0.028379</td>\n",
       "      <td>0.028379</td>\n",
       "      <td>0.028379</td>\n",
       "    </tr>\n",
       "    <tr>\n",
       "      <th>bedrooms</th>\n",
       "      <td>0.431067</td>\n",
       "      <td>0.616419</td>\n",
       "      <td>-0.026275</td>\n",
       "      <td>0.027393</td>\n",
       "      <td>1.000000</td>\n",
       "      <td>0.726565</td>\n",
       "      <td>0.009401</td>\n",
       "      <td>0.009401</td>\n",
       "      <td>0.009401</td>\n",
       "    </tr>\n",
       "    <tr>\n",
       "      <th>bathrooms</th>\n",
       "      <td>0.437313</td>\n",
       "      <td>0.565345</td>\n",
       "      <td>-0.050603</td>\n",
       "      <td>-0.006743</td>\n",
       "      <td>0.726565</td>\n",
       "      <td>1.000000</td>\n",
       "      <td>0.015595</td>\n",
       "      <td>0.015595</td>\n",
       "      <td>0.015595</td>\n",
       "    </tr>\n",
       "    <tr>\n",
       "      <th>balcony</th>\n",
       "      <td>0.039046</td>\n",
       "      <td>0.137782</td>\n",
       "      <td>0.010959</td>\n",
       "      <td>0.028379</td>\n",
       "      <td>0.009401</td>\n",
       "      <td>0.015595</td>\n",
       "      <td>1.000000</td>\n",
       "      <td>1.000000</td>\n",
       "      <td>1.000000</td>\n",
       "    </tr>\n",
       "    <tr>\n",
       "      <th>parking</th>\n",
       "      <td>0.039046</td>\n",
       "      <td>0.137782</td>\n",
       "      <td>0.010959</td>\n",
       "      <td>0.028379</td>\n",
       "      <td>0.009401</td>\n",
       "      <td>0.015595</td>\n",
       "      <td>1.000000</td>\n",
       "      <td>1.000000</td>\n",
       "      <td>1.000000</td>\n",
       "    </tr>\n",
       "    <tr>\n",
       "      <th>lift</th>\n",
       "      <td>0.039046</td>\n",
       "      <td>0.137782</td>\n",
       "      <td>0.010959</td>\n",
       "      <td>0.028379</td>\n",
       "      <td>0.009401</td>\n",
       "      <td>0.015595</td>\n",
       "      <td>1.000000</td>\n",
       "      <td>1.000000</td>\n",
       "      <td>1.000000</td>\n",
       "    </tr>\n",
       "  </tbody>\n",
       "</table>\n",
       "</div>"
      ],
      "text/plain": [
       "              price      area  latitude  longitude  bedrooms  bathrooms  \\\n",
       "price      1.000000  0.506439 -0.531531  -0.138363  0.431067   0.437313   \n",
       "area       0.506439  1.000000 -0.055543   0.047363  0.616419   0.565345   \n",
       "latitude  -0.531531 -0.055543  1.000000  -0.051398 -0.026275  -0.050603   \n",
       "longitude -0.138363  0.047363 -0.051398   1.000000  0.027393  -0.006743   \n",
       "bedrooms   0.431067  0.616419 -0.026275   0.027393  1.000000   0.726565   \n",
       "bathrooms  0.437313  0.565345 -0.050603  -0.006743  0.726565   1.000000   \n",
       "balcony    0.039046  0.137782  0.010959   0.028379  0.009401   0.015595   \n",
       "parking    0.039046  0.137782  0.010959   0.028379  0.009401   0.015595   \n",
       "lift       0.039046  0.137782  0.010959   0.028379  0.009401   0.015595   \n",
       "\n",
       "            balcony   parking      lift  \n",
       "price      0.039046  0.039046  0.039046  \n",
       "area       0.137782  0.137782  0.137782  \n",
       "latitude   0.010959  0.010959  0.010959  \n",
       "longitude  0.028379  0.028379  0.028379  \n",
       "bedrooms   0.009401  0.009401  0.009401  \n",
       "bathrooms  0.015595  0.015595  0.015595  \n",
       "balcony    1.000000  1.000000  1.000000  \n",
       "parking    1.000000  1.000000  1.000000  \n",
       "lift       1.000000  1.000000  1.000000  "
      ]
     },
     "execution_count": 26,
     "metadata": {},
     "output_type": "execute_result"
    }
   ],
   "source": [
    "data_filtered[['price','area','latitude','longitude','bedrooms','bathrooms','balcony','parking','lift']].corr()"
   ]
  },
  {
   "cell_type": "code",
   "execution_count": 27,
   "id": "398524f6-e141-45f6-bbff-ee3d92765157",
   "metadata": {},
   "outputs": [
    {
     "data": {
      "text/html": [
       "<div>\n",
       "<style scoped>\n",
       "    .dataframe tbody tr th:only-of-type {\n",
       "        vertical-align: middle;\n",
       "    }\n",
       "\n",
       "    .dataframe tbody tr th {\n",
       "        vertical-align: top;\n",
       "    }\n",
       "\n",
       "    .dataframe thead th {\n",
       "        text-align: right;\n",
       "    }\n",
       "</style>\n",
       "<table border=\"1\" class=\"dataframe\">\n",
       "  <thead>\n",
       "    <tr style=\"text-align: right;\">\n",
       "      <th></th>\n",
       "      <th>price</th>\n",
       "    </tr>\n",
       "    <tr>\n",
       "      <th>type_of_building</th>\n",
       "      <th></th>\n",
       "    </tr>\n",
       "  </thead>\n",
       "  <tbody>\n",
       "    <tr>\n",
       "      <th>Individual House</th>\n",
       "      <td>2.084054e+07</td>\n",
       "    </tr>\n",
       "    <tr>\n",
       "      <th>Flat</th>\n",
       "      <td>2.122883e+07</td>\n",
       "    </tr>\n",
       "  </tbody>\n",
       "</table>\n",
       "</div>"
      ],
      "text/plain": [
       "                         price\n",
       "type_of_building              \n",
       "Individual House  2.084054e+07\n",
       "Flat              2.122883e+07"
      ]
     },
     "execution_count": 27,
     "metadata": {},
     "output_type": "execute_result"
    }
   ],
   "source": [
    "# Создание переменной с типом жилья и средней ценой\n",
    "avg_price = data_filtered.pivot_table(index='type_of_building', values='price', aggfunc='mean')\n",
    "avg_price.sort_values(ascending=False ,by='type_of_building')"
   ]
  },
  {
   "cell_type": "code",
   "execution_count": 28,
   "id": "e1ee59b9-a3ad-4696-8ca8-caeb730c7763",
   "metadata": {},
   "outputs": [
    {
     "data": {
      "text/html": [
       "<div>\n",
       "<style scoped>\n",
       "    .dataframe tbody tr th:only-of-type {\n",
       "        vertical-align: middle;\n",
       "    }\n",
       "\n",
       "    .dataframe tbody tr th {\n",
       "        vertical-align: top;\n",
       "    }\n",
       "\n",
       "    .dataframe thead th {\n",
       "        text-align: right;\n",
       "    }\n",
       "</style>\n",
       "<table border=\"1\" class=\"dataframe\">\n",
       "  <thead>\n",
       "    <tr style=\"text-align: right;\">\n",
       "      <th></th>\n",
       "      <th>type_of_building</th>\n",
       "      <th>status</th>\n",
       "    </tr>\n",
       "  </thead>\n",
       "  <tbody>\n",
       "    <tr>\n",
       "      <th>0</th>\n",
       "      <td>Flat</td>\n",
       "      <td>4114</td>\n",
       "    </tr>\n",
       "    <tr>\n",
       "      <th>1</th>\n",
       "      <td>Individual House</td>\n",
       "      <td>314</td>\n",
       "    </tr>\n",
       "  </tbody>\n",
       "</table>\n",
       "</div>"
      ],
      "text/plain": [
       "   type_of_building  status\n",
       "0              Flat    4114\n",
       "1  Individual House     314"
      ]
     },
     "execution_count": 28,
     "metadata": {},
     "output_type": "execute_result"
    }
   ],
   "source": [
    "# Создание переменной с типом и количеством статусов постройки\n",
    "ads = data_filtered.pivot_table(index='type_of_building', values='status', aggfunc='count')\n",
    "ads = ads.sort_values(ascending=False, by ='status' )\n",
    "ads = ads.reset_index()\n",
    "ads"
   ]
  },
  {
   "cell_type": "code",
   "execution_count": 29,
   "id": "eedd2998-a356-47a4-8f49-03a7046b3ad4",
   "metadata": {},
   "outputs": [
    {
     "data": {
      "image/png": "[encoded data removed]",
      "text/plain": [
       "<Figure size 2000x700 with 1 Axes>"
      ]
     },
     "metadata": {},
     "output_type": "display_data"
    }
   ],
   "source": [
    "ads.plot(grid=True, figsize=(20, 7), kind = 'bar', x='type_of_building',y='status');"
   ]
  },
  {
   "cell_type": "code",
   "execution_count": 30,
   "id": "3197f9ab-4ec5-46d4-a288-e05c7acfffc0",
   "metadata": {},
   "outputs": [],
   "source": [
    "Flat = data_filtered.query('type_of_building == \"Flat\"')\n",
    "IH = data_filtered.query('type_of_building == \"Individual House\"')"
   ]
  },
  {
   "cell_type": "code",
   "execution_count": 31,
   "id": "de63f2ed-9627-4eb8-a191-bfbc20892391",
   "metadata": {},
   "outputs": [
    {
     "data": {
      "image/png": "[encoded data removed]",
      "text/plain": [
       "<Figure size 500x500 with 1 Axes>"
      ]
     },
     "metadata": {},
     "output_type": "display_data"
    }
   ],
   "source": [
    "sns.lmplot(x='price', y = 'area',data = Flat);\n",
    "plt.title(\"Flat\");"
   ]
  },
  {
   "cell_type": "code",
   "execution_count": 32,
   "id": "b3d8660d-17bd-47a6-9c16-b3498aeab4b0",
   "metadata": {},
   "outputs": [
    {
     "data": {
      "image/png": "[encoded data removed]",
      "text/plain": [
       "<Figure size 500x500 with 1 Axes>"
      ]
     },
     "metadata": {},
     "output_type": "display_data"
    }
   ],
   "source": [
    "sns.lmplot(x='price', y = 'area',data = IH);\n",
    "plt.title(\"Individual Houses\");"
   ]
  },
  {
   "cell_type": "code",
   "execution_count": 33,
   "id": "f0da0fa9-55db-40af-8e0c-1df9246fea26",
   "metadata": {},
   "outputs": [],
   "source": [
    "area_flat = Flat[['price','area']]\n",
    "corr_flat = area_flat.corr()\n",
    "area_IH = IH[['price','area']]\n",
    "corr_IH = area_IH.corr()"
   ]
  },
  {
   "cell_type": "code",
   "execution_count": 34,
   "id": "98176e89-0bd9-4f3e-920d-6c254750a33f",
   "metadata": {},
   "outputs": [
    {
     "data": {
      "text/html": [
       "<div>\n",
       "<style scoped>\n",
       "    .dataframe tbody tr th:only-of-type {\n",
       "        vertical-align: middle;\n",
       "    }\n",
       "\n",
       "    .dataframe tbody tr th {\n",
       "        vertical-align: top;\n",
       "    }\n",
       "\n",
       "    .dataframe thead th {\n",
       "        text-align: right;\n",
       "    }\n",
       "</style>\n",
       "<table border=\"1\" class=\"dataframe\">\n",
       "  <thead>\n",
       "    <tr style=\"text-align: right;\">\n",
       "      <th></th>\n",
       "      <th>price</th>\n",
       "      <th>area</th>\n",
       "    </tr>\n",
       "  </thead>\n",
       "  <tbody>\n",
       "    <tr>\n",
       "      <th>price</th>\n",
       "      <td>1.000</td>\n",
       "      <td>0.506</td>\n",
       "    </tr>\n",
       "    <tr>\n",
       "      <th>area</th>\n",
       "      <td>0.506</td>\n",
       "      <td>1.000</td>\n",
       "    </tr>\n",
       "  </tbody>\n",
       "</table>\n",
       "</div>"
      ],
      "text/plain": [
       "       price   area\n",
       "price  1.000  0.506\n",
       "area   0.506  1.000"
      ]
     },
     "execution_count": 34,
     "metadata": {},
     "output_type": "execute_result"
    }
   ],
   "source": [
    "round(corr_flat,3)"
   ]
  },
  {
   "cell_type": "code",
   "execution_count": 35,
   "id": "41626cd6-6d2e-4975-a69f-f6c40f56bd17",
   "metadata": {},
   "outputs": [
    {
     "data": {
      "text/html": [
       "<div>\n",
       "<style scoped>\n",
       "    .dataframe tbody tr th:only-of-type {\n",
       "        vertical-align: middle;\n",
       "    }\n",
       "\n",
       "    .dataframe tbody tr th {\n",
       "        vertical-align: top;\n",
       "    }\n",
       "\n",
       "    .dataframe thead th {\n",
       "        text-align: right;\n",
       "    }\n",
       "</style>\n",
       "<table border=\"1\" class=\"dataframe\">\n",
       "  <thead>\n",
       "    <tr style=\"text-align: right;\">\n",
       "      <th></th>\n",
       "      <th>price</th>\n",
       "      <th>area</th>\n",
       "    </tr>\n",
       "  </thead>\n",
       "  <tbody>\n",
       "    <tr>\n",
       "      <th>price</th>\n",
       "      <td>1.000</td>\n",
       "      <td>0.514</td>\n",
       "    </tr>\n",
       "    <tr>\n",
       "      <th>area</th>\n",
       "      <td>0.514</td>\n",
       "      <td>1.000</td>\n",
       "    </tr>\n",
       "  </tbody>\n",
       "</table>\n",
       "</div>"
      ],
      "text/plain": [
       "       price   area\n",
       "price  1.000  0.514\n",
       "area   0.514  1.000"
      ]
     },
     "execution_count": 35,
     "metadata": {},
     "output_type": "execute_result"
    }
   ],
   "source": [
    "round(corr_IH,3)"
   ]
  },
  {
   "cell_type": "code",
   "execution_count": 36,
   "id": "9bdd7ab6-7d88-419c-b6ec-8a5bd373c1a1",
   "metadata": {},
   "outputs": [
    {
     "data": {
      "image/png": "[encoded data removed]",
      "text/plain": [
       "<Figure size 640x480 with 1 Axes>"
      ]
     },
     "metadata": {},
     "output_type": "display_data"
    }
   ],
   "source": [
    "data_filtered.boxplot(by='status',column='price');"
   ]
  },
  {
   "cell_type": "code",
   "execution_count": 37,
   "id": "cb97dcbe-a96f-4b0c-87cc-2ea055cffee2",
   "metadata": {},
   "outputs": [
    {
     "data": {
      "image/png": "[encoded data removed]",
      "text/plain": [
       "<Figure size 640x480 with 1 Axes>"
      ]
     },
     "metadata": {},
     "output_type": "display_data"
    }
   ],
   "source": [
    "data_filtered.boxplot(by='furnished_status',column='price');"
   ]
  },
  {
   "cell_type": "code",
   "execution_count": 38,
   "id": "4986800c-5d34-49cf-afab-f0027f67fb61",
   "metadata": {},
   "outputs": [
    {
     "data": {
      "image/png": "[encoded data removed]",
      "text/plain": [
       "<Figure size 640x480 with 1 Axes>"
      ]
     },
     "metadata": {},
     "output_type": "display_data"
    }
   ],
   "source": [
    "data_filtered.boxplot(by='new_or_old',column='price');"
   ]
  },
  {
   "cell_type": "code",
   "execution_count": 39,
   "id": "9a357f55-f69a-42a0-8e1d-ee52755421cd",
   "metadata": {},
   "outputs": [
    {
     "data": {
      "image/png": "[encoded data removed]",
      "text/plain": [
       "<Figure size 640x480 with 1 Axes>"
      ]
     },
     "metadata": {},
     "output_type": "display_data"
    }
   ],
   "source": [
    "data_filtered.boxplot(by='type_of_building',column='price');"
   ]
  },
  {
   "cell_type": "code",
   "execution_count": 40,
   "id": "59797758-1ad5-4e8a-ae41-80eee68b8660",
   "metadata": {},
   "outputs": [
    {
     "name": "stdout",
     "output_type": "stream",
     "text": [
      "<class 'pandas.core.frame.DataFrame'>\n",
      "RangeIndex: 6255 entries, 0 to 6254\n",
      "Data columns (total 13 columns):\n",
      " #   Column            Non-Null Count  Dtype  \n",
      "---  ------            --------------  -----  \n",
      " 0   price             6255 non-null   int32  \n",
      " 1   area              6255 non-null   int32  \n",
      " 2   latitude          6255 non-null   float64\n",
      " 3   longitude         6255 non-null   float64\n",
      " 4   bedrooms          6255 non-null   int32  \n",
      " 5   bathrooms         6255 non-null   int32  \n",
      " 6   balcony           6255 non-null   int32  \n",
      " 7   status            6255 non-null   object \n",
      " 8   new_or_old        6255 non-null   object \n",
      " 9   parking           6255 non-null   int32  \n",
      " 10  furnished_status  6255 non-null   object \n",
      " 11  lift              6255 non-null   int32  \n",
      " 12  type_of_building  6255 non-null   object \n",
      "dtypes: float64(2), int32(7), object(4)\n",
      "memory usage: 464.4+ KB\n"
     ]
    }
   ],
   "source": [
    "data.info()"
   ]
  },
  {
   "cell_type": "code",
   "execution_count": 41,
   "id": "5369505e-5556-493b-8314-e25676898aa0",
   "metadata": {},
   "outputs": [
    {
     "data": {
      "text/plain": [
       "array(['Under Construction', 'Ready to Move', -1], dtype=object)"
      ]
     },
     "execution_count": 41,
     "metadata": {},
     "output_type": "execute_result"
    }
   ],
   "source": [
    "data_filtered[\"status\"].unique()"
   ]
  },
  {
   "cell_type": "markdown",
   "id": "bc25dbf5-71ed-4d0c-89a2-84cd2f7d4d0d",
   "metadata": {},
   "source": [
    "Заменим  Ready to Move на 1 , а Under Construction на 0"
   ]
  },
  {
   "cell_type": "code",
   "execution_count": 42,
   "id": "86bfe126-7c0a-4c52-b018-47db4423ff63",
   "metadata": {},
   "outputs": [
    {
     "data": {
      "text/html": [
       "<div>\n",
       "<style scoped>\n",
       "    .dataframe tbody tr th:only-of-type {\n",
       "        vertical-align: middle;\n",
       "    }\n",
       "\n",
       "    .dataframe tbody tr th {\n",
       "        vertical-align: top;\n",
       "    }\n",
       "\n",
       "    .dataframe thead th {\n",
       "        text-align: right;\n",
       "    }\n",
       "</style>\n",
       "<table border=\"1\" class=\"dataframe\">\n",
       "  <thead>\n",
       "    <tr style=\"text-align: right;\">\n",
       "      <th></th>\n",
       "      <th>price</th>\n",
       "      <th>area</th>\n",
       "      <th>latitude</th>\n",
       "      <th>longitude</th>\n",
       "      <th>bedrooms</th>\n",
       "      <th>bathrooms</th>\n",
       "      <th>balcony</th>\n",
       "      <th>status</th>\n",
       "      <th>new_or_old</th>\n",
       "      <th>parking</th>\n",
       "      <th>furnished_status</th>\n",
       "      <th>lift</th>\n",
       "      <th>type_of_building</th>\n",
       "    </tr>\n",
       "  </thead>\n",
       "  <tbody>\n",
       "    <tr>\n",
       "      <th>0</th>\n",
       "      <td>22400000</td>\n",
       "      <td>629</td>\n",
       "      <td>19.032800</td>\n",
       "      <td>72.896357</td>\n",
       "      <td>2</td>\n",
       "      <td>2</td>\n",
       "      <td>0</td>\n",
       "      <td>0</td>\n",
       "      <td>New Property</td>\n",
       "      <td>0</td>\n",
       "      <td>-1</td>\n",
       "      <td>0</td>\n",
       "      <td>Flat</td>\n",
       "    </tr>\n",
       "    <tr>\n",
       "      <th>1</th>\n",
       "      <td>35000000</td>\n",
       "      <td>974</td>\n",
       "      <td>19.032800</td>\n",
       "      <td>72.896357</td>\n",
       "      <td>3</td>\n",
       "      <td>2</td>\n",
       "      <td>0</td>\n",
       "      <td>0</td>\n",
       "      <td>New Property</td>\n",
       "      <td>0</td>\n",
       "      <td>-1</td>\n",
       "      <td>0</td>\n",
       "      <td>Flat</td>\n",
       "    </tr>\n",
       "    <tr>\n",
       "      <th>2</th>\n",
       "      <td>31700000</td>\n",
       "      <td>968</td>\n",
       "      <td>19.085600</td>\n",
       "      <td>72.909277</td>\n",
       "      <td>3</td>\n",
       "      <td>3</td>\n",
       "      <td>0</td>\n",
       "      <td>0</td>\n",
       "      <td>New Property</td>\n",
       "      <td>0</td>\n",
       "      <td>-1</td>\n",
       "      <td>0</td>\n",
       "      <td>Flat</td>\n",
       "    </tr>\n",
       "    <tr>\n",
       "      <th>3</th>\n",
       "      <td>18700000</td>\n",
       "      <td>629</td>\n",
       "      <td>19.155756</td>\n",
       "      <td>72.846862</td>\n",
       "      <td>2</td>\n",
       "      <td>2</td>\n",
       "      <td>2</td>\n",
       "      <td>1</td>\n",
       "      <td>New Property</td>\n",
       "      <td>2</td>\n",
       "      <td>-1</td>\n",
       "      <td>2</td>\n",
       "      <td>Flat</td>\n",
       "    </tr>\n",
       "    <tr>\n",
       "      <th>4</th>\n",
       "      <td>13500000</td>\n",
       "      <td>1090</td>\n",
       "      <td>19.177555</td>\n",
       "      <td>72.849887</td>\n",
       "      <td>2</td>\n",
       "      <td>2</td>\n",
       "      <td>0</td>\n",
       "      <td>-1</td>\n",
       "      <td>New Property</td>\n",
       "      <td>0</td>\n",
       "      <td>Unfurnished</td>\n",
       "      <td>0</td>\n",
       "      <td>Flat</td>\n",
       "    </tr>\n",
       "    <tr>\n",
       "      <th>...</th>\n",
       "      <td>...</td>\n",
       "      <td>...</td>\n",
       "      <td>...</td>\n",
       "      <td>...</td>\n",
       "      <td>...</td>\n",
       "      <td>...</td>\n",
       "      <td>...</td>\n",
       "      <td>...</td>\n",
       "      <td>...</td>\n",
       "      <td>...</td>\n",
       "      <td>...</td>\n",
       "      <td>...</td>\n",
       "      <td>...</td>\n",
       "    </tr>\n",
       "    <tr>\n",
       "      <th>6250</th>\n",
       "      <td>19500000</td>\n",
       "      <td>810</td>\n",
       "      <td>19.138320</td>\n",
       "      <td>72.810020</td>\n",
       "      <td>2</td>\n",
       "      <td>2</td>\n",
       "      <td>0</td>\n",
       "      <td>1</td>\n",
       "      <td>Resale</td>\n",
       "      <td>0</td>\n",
       "      <td>Semi-Furnished</td>\n",
       "      <td>0</td>\n",
       "      <td>Flat</td>\n",
       "    </tr>\n",
       "    <tr>\n",
       "      <th>6251</th>\n",
       "      <td>22000000</td>\n",
       "      <td>1400</td>\n",
       "      <td>19.221920</td>\n",
       "      <td>72.854250</td>\n",
       "      <td>3</td>\n",
       "      <td>3</td>\n",
       "      <td>1</td>\n",
       "      <td>1</td>\n",
       "      <td>Resale</td>\n",
       "      <td>1</td>\n",
       "      <td>Unfurnished</td>\n",
       "      <td>1</td>\n",
       "      <td>Flat</td>\n",
       "    </tr>\n",
       "    <tr>\n",
       "      <th>6252</th>\n",
       "      <td>20000000</td>\n",
       "      <td>750</td>\n",
       "      <td>19.144320</td>\n",
       "      <td>72.824111</td>\n",
       "      <td>2</td>\n",
       "      <td>2</td>\n",
       "      <td>0</td>\n",
       "      <td>1</td>\n",
       "      <td>Resale</td>\n",
       "      <td>0</td>\n",
       "      <td>-1</td>\n",
       "      <td>0</td>\n",
       "      <td>Flat</td>\n",
       "    </tr>\n",
       "    <tr>\n",
       "      <th>6253</th>\n",
       "      <td>11000000</td>\n",
       "      <td>700</td>\n",
       "      <td>19.047201</td>\n",
       "      <td>72.872225</td>\n",
       "      <td>2</td>\n",
       "      <td>2</td>\n",
       "      <td>0</td>\n",
       "      <td>1</td>\n",
       "      <td>Resale</td>\n",
       "      <td>0</td>\n",
       "      <td>Furnished</td>\n",
       "      <td>0</td>\n",
       "      <td>Flat</td>\n",
       "    </tr>\n",
       "    <tr>\n",
       "      <th>6254</th>\n",
       "      <td>15000000</td>\n",
       "      <td>900</td>\n",
       "      <td>19.168818</td>\n",
       "      <td>72.936375</td>\n",
       "      <td>2</td>\n",
       "      <td>2</td>\n",
       "      <td>0</td>\n",
       "      <td>1</td>\n",
       "      <td>Resale</td>\n",
       "      <td>0</td>\n",
       "      <td>-1</td>\n",
       "      <td>0</td>\n",
       "      <td>Flat</td>\n",
       "    </tr>\n",
       "  </tbody>\n",
       "</table>\n",
       "<p>4428 rows × 13 columns</p>\n",
       "</div>"
      ],
      "text/plain": [
       "         price  area   latitude  longitude  bedrooms  bathrooms  balcony  \\\n",
       "0     22400000   629  19.032800  72.896357         2          2        0   \n",
       "1     35000000   974  19.032800  72.896357         3          2        0   \n",
       "2     31700000   968  19.085600  72.909277         3          3        0   \n",
       "3     18700000   629  19.155756  72.846862         2          2        2   \n",
       "4     13500000  1090  19.177555  72.849887         2          2        0   \n",
       "...        ...   ...        ...        ...       ...        ...      ...   \n",
       "6250  19500000   810  19.138320  72.810020         2          2        0   \n",
       "6251  22000000  1400  19.221920  72.854250         3          3        1   \n",
       "6252  20000000   750  19.144320  72.824111         2          2        0   \n",
       "6253  11000000   700  19.047201  72.872225         2          2        0   \n",
       "6254  15000000   900  19.168818  72.936375         2          2        0   \n",
       "\n",
       "     status    new_or_old  parking furnished_status  lift type_of_building  \n",
       "0         0  New Property        0               -1     0             Flat  \n",
       "1         0  New Property        0               -1     0             Flat  \n",
       "2         0  New Property        0               -1     0             Flat  \n",
       "3         1  New Property        2               -1     2             Flat  \n",
       "4        -1  New Property        0      Unfurnished     0             Flat  \n",
       "...     ...           ...      ...              ...   ...              ...  \n",
       "6250      1        Resale        0   Semi-Furnished     0             Flat  \n",
       "6251      1        Resale        1      Unfurnished     1             Flat  \n",
       "6252      1        Resale        0               -1     0             Flat  \n",
       "6253      1        Resale        0        Furnished     0             Flat  \n",
       "6254      1        Resale        0               -1     0             Flat  \n",
       "\n",
       "[4428 rows x 13 columns]"
      ]
     },
     "execution_count": 42,
     "metadata": {},
     "output_type": "execute_result"
    }
   ],
   "source": [
    "data_filtered.status[data_filtered.status == 'Ready to Move'] = 1\n",
    "data_filtered.status[data_filtered.status == 'Under Construction'] = 0\n",
    "data_filtered"
   ]
  },
  {
   "cell_type": "code",
   "execution_count": 43,
   "id": "665cfc73-6edf-47da-ae4b-853ac9edb158",
   "metadata": {},
   "outputs": [
    {
     "data": {
      "text/plain": [
       "array([-1, 'Unfurnished', 'Semi-Furnished', 'Furnished'], dtype=object)"
      ]
     },
     "execution_count": 43,
     "metadata": {},
     "output_type": "execute_result"
    }
   ],
   "source": [
    "data_filtered[\"furnished_status\"].unique()"
   ]
  },
  {
   "cell_type": "markdown",
   "id": "e7a45b0a-0a4a-4084-b297-4bef585723be",
   "metadata": {},
   "source": [
    "Заменим  Furnished на 2 , Semi-Furnished на 1, а Unfurnished на 0"
   ]
  },
  {
   "cell_type": "code",
   "execution_count": 44,
   "id": "ff525bb1-5bb2-49e4-a140-5c42891135b3",
   "metadata": {},
   "outputs": [
    {
     "data": {
      "text/html": [
       "<div>\n",
       "<style scoped>\n",
       "    .dataframe tbody tr th:only-of-type {\n",
       "        vertical-align: middle;\n",
       "    }\n",
       "\n",
       "    .dataframe tbody tr th {\n",
       "        vertical-align: top;\n",
       "    }\n",
       "\n",
       "    .dataframe thead th {\n",
       "        text-align: right;\n",
       "    }\n",
       "</style>\n",
       "<table border=\"1\" class=\"dataframe\">\n",
       "  <thead>\n",
       "    <tr style=\"text-align: right;\">\n",
       "      <th></th>\n",
       "      <th>price</th>\n",
       "      <th>area</th>\n",
       "      <th>latitude</th>\n",
       "      <th>longitude</th>\n",
       "      <th>bedrooms</th>\n",
       "      <th>bathrooms</th>\n",
       "      <th>balcony</th>\n",
       "      <th>status</th>\n",
       "      <th>new_or_old</th>\n",
       "      <th>parking</th>\n",
       "      <th>furnished_status</th>\n",
       "      <th>lift</th>\n",
       "      <th>type_of_building</th>\n",
       "    </tr>\n",
       "  </thead>\n",
       "  <tbody>\n",
       "    <tr>\n",
       "      <th>0</th>\n",
       "      <td>22400000</td>\n",
       "      <td>629</td>\n",
       "      <td>19.032800</td>\n",
       "      <td>72.896357</td>\n",
       "      <td>2</td>\n",
       "      <td>2</td>\n",
       "      <td>0</td>\n",
       "      <td>0</td>\n",
       "      <td>New Property</td>\n",
       "      <td>0</td>\n",
       "      <td>-1</td>\n",
       "      <td>0</td>\n",
       "      <td>Flat</td>\n",
       "    </tr>\n",
       "    <tr>\n",
       "      <th>1</th>\n",
       "      <td>35000000</td>\n",
       "      <td>974</td>\n",
       "      <td>19.032800</td>\n",
       "      <td>72.896357</td>\n",
       "      <td>3</td>\n",
       "      <td>2</td>\n",
       "      <td>0</td>\n",
       "      <td>0</td>\n",
       "      <td>New Property</td>\n",
       "      <td>0</td>\n",
       "      <td>-1</td>\n",
       "      <td>0</td>\n",
       "      <td>Flat</td>\n",
       "    </tr>\n",
       "    <tr>\n",
       "      <th>2</th>\n",
       "      <td>31700000</td>\n",
       "      <td>968</td>\n",
       "      <td>19.085600</td>\n",
       "      <td>72.909277</td>\n",
       "      <td>3</td>\n",
       "      <td>3</td>\n",
       "      <td>0</td>\n",
       "      <td>0</td>\n",
       "      <td>New Property</td>\n",
       "      <td>0</td>\n",
       "      <td>-1</td>\n",
       "      <td>0</td>\n",
       "      <td>Flat</td>\n",
       "    </tr>\n",
       "    <tr>\n",
       "      <th>3</th>\n",
       "      <td>18700000</td>\n",
       "      <td>629</td>\n",
       "      <td>19.155756</td>\n",
       "      <td>72.846862</td>\n",
       "      <td>2</td>\n",
       "      <td>2</td>\n",
       "      <td>2</td>\n",
       "      <td>1</td>\n",
       "      <td>New Property</td>\n",
       "      <td>2</td>\n",
       "      <td>-1</td>\n",
       "      <td>2</td>\n",
       "      <td>Flat</td>\n",
       "    </tr>\n",
       "    <tr>\n",
       "      <th>4</th>\n",
       "      <td>13500000</td>\n",
       "      <td>1090</td>\n",
       "      <td>19.177555</td>\n",
       "      <td>72.849887</td>\n",
       "      <td>2</td>\n",
       "      <td>2</td>\n",
       "      <td>0</td>\n",
       "      <td>-1</td>\n",
       "      <td>New Property</td>\n",
       "      <td>0</td>\n",
       "      <td>0</td>\n",
       "      <td>0</td>\n",
       "      <td>Flat</td>\n",
       "    </tr>\n",
       "    <tr>\n",
       "      <th>...</th>\n",
       "      <td>...</td>\n",
       "      <td>...</td>\n",
       "      <td>...</td>\n",
       "      <td>...</td>\n",
       "      <td>...</td>\n",
       "      <td>...</td>\n",
       "      <td>...</td>\n",
       "      <td>...</td>\n",
       "      <td>...</td>\n",
       "      <td>...</td>\n",
       "      <td>...</td>\n",
       "      <td>...</td>\n",
       "      <td>...</td>\n",
       "    </tr>\n",
       "    <tr>\n",
       "      <th>6250</th>\n",
       "      <td>19500000</td>\n",
       "      <td>810</td>\n",
       "      <td>19.138320</td>\n",
       "      <td>72.810020</td>\n",
       "      <td>2</td>\n",
       "      <td>2</td>\n",
       "      <td>0</td>\n",
       "      <td>1</td>\n",
       "      <td>Resale</td>\n",
       "      <td>0</td>\n",
       "      <td>1</td>\n",
       "      <td>0</td>\n",
       "      <td>Flat</td>\n",
       "    </tr>\n",
       "    <tr>\n",
       "      <th>6251</th>\n",
       "      <td>22000000</td>\n",
       "      <td>1400</td>\n",
       "      <td>19.221920</td>\n",
       "      <td>72.854250</td>\n",
       "      <td>3</td>\n",
       "      <td>3</td>\n",
       "      <td>1</td>\n",
       "      <td>1</td>\n",
       "      <td>Resale</td>\n",
       "      <td>1</td>\n",
       "      <td>0</td>\n",
       "      <td>1</td>\n",
       "      <td>Flat</td>\n",
       "    </tr>\n",
       "    <tr>\n",
       "      <th>6252</th>\n",
       "      <td>20000000</td>\n",
       "      <td>750</td>\n",
       "      <td>19.144320</td>\n",
       "      <td>72.824111</td>\n",
       "      <td>2</td>\n",
       "      <td>2</td>\n",
       "      <td>0</td>\n",
       "      <td>1</td>\n",
       "      <td>Resale</td>\n",
       "      <td>0</td>\n",
       "      <td>-1</td>\n",
       "      <td>0</td>\n",
       "      <td>Flat</td>\n",
       "    </tr>\n",
       "    <tr>\n",
       "      <th>6253</th>\n",
       "      <td>11000000</td>\n",
       "      <td>700</td>\n",
       "      <td>19.047201</td>\n",
       "      <td>72.872225</td>\n",
       "      <td>2</td>\n",
       "      <td>2</td>\n",
       "      <td>0</td>\n",
       "      <td>1</td>\n",
       "      <td>Resale</td>\n",
       "      <td>0</td>\n",
       "      <td>2</td>\n",
       "      <td>0</td>\n",
       "      <td>Flat</td>\n",
       "    </tr>\n",
       "    <tr>\n",
       "      <th>6254</th>\n",
       "      <td>15000000</td>\n",
       "      <td>900</td>\n",
       "      <td>19.168818</td>\n",
       "      <td>72.936375</td>\n",
       "      <td>2</td>\n",
       "      <td>2</td>\n",
       "      <td>0</td>\n",
       "      <td>1</td>\n",
       "      <td>Resale</td>\n",
       "      <td>0</td>\n",
       "      <td>-1</td>\n",
       "      <td>0</td>\n",
       "      <td>Flat</td>\n",
       "    </tr>\n",
       "  </tbody>\n",
       "</table>\n",
       "<p>4428 rows × 13 columns</p>\n",
       "</div>"
      ],
      "text/plain": [
       "         price  area   latitude  longitude  bedrooms  bathrooms  balcony  \\\n",
       "0     22400000   629  19.032800  72.896357         2          2        0   \n",
       "1     35000000   974  19.032800  72.896357         3          2        0   \n",
       "2     31700000   968  19.085600  72.909277         3          3        0   \n",
       "3     18700000   629  19.155756  72.846862         2          2        2   \n",
       "4     13500000  1090  19.177555  72.849887         2          2        0   \n",
       "...        ...   ...        ...        ...       ...        ...      ...   \n",
       "6250  19500000   810  19.138320  72.810020         2          2        0   \n",
       "6251  22000000  1400  19.221920  72.854250         3          3        1   \n",
       "6252  20000000   750  19.144320  72.824111         2          2        0   \n",
       "6253  11000000   700  19.047201  72.872225         2          2        0   \n",
       "6254  15000000   900  19.168818  72.936375         2          2        0   \n",
       "\n",
       "     status    new_or_old  parking furnished_status  lift type_of_building  \n",
       "0         0  New Property        0               -1     0             Flat  \n",
       "1         0  New Property        0               -1     0             Flat  \n",
       "2         0  New Property        0               -1     0             Flat  \n",
       "3         1  New Property        2               -1     2             Flat  \n",
       "4        -1  New Property        0                0     0             Flat  \n",
       "...     ...           ...      ...              ...   ...              ...  \n",
       "6250      1        Resale        0                1     0             Flat  \n",
       "6251      1        Resale        1                0     1             Flat  \n",
       "6252      1        Resale        0               -1     0             Flat  \n",
       "6253      1        Resale        0                2     0             Flat  \n",
       "6254      1        Resale        0               -1     0             Flat  \n",
       "\n",
       "[4428 rows x 13 columns]"
      ]
     },
     "execution_count": 44,
     "metadata": {},
     "output_type": "execute_result"
    }
   ],
   "source": [
    "data_filtered.furnished_status[data_filtered.furnished_status == 'Furnished'] = 2\n",
    "data_filtered.furnished_status[data_filtered.furnished_status == 'Semi-Furnished'] = 1\n",
    "data_filtered.furnished_status[data_filtered.furnished_status == 'Unfurnished'] = 0\n",
    "data_filtered"
   ]
  },
  {
   "cell_type": "code",
   "execution_count": 45,
   "id": "ac74d4c8-08b7-4a70-842d-79830ece2957",
   "metadata": {},
   "outputs": [
    {
     "data": {
      "text/plain": [
       "array(['New Property', 'Resale'], dtype=object)"
      ]
     },
     "execution_count": 45,
     "metadata": {},
     "output_type": "execute_result"
    }
   ],
   "source": [
    "data_filtered[\"new_or_old\"].unique()"
   ]
  },
  {
   "cell_type": "markdown",
   "id": "92c2b0af-a7a8-45d1-8fb0-242874fd760d",
   "metadata": {},
   "source": [
    "Заменим  New Property на 1 , Resale на 0"
   ]
  },
  {
   "cell_type": "code",
   "execution_count": 46,
   "id": "1ab701d3-9ed9-4584-b832-52c4e93cda38",
   "metadata": {},
   "outputs": [
    {
     "data": {
      "text/html": [
       "<div>\n",
       "<style scoped>\n",
       "    .dataframe tbody tr th:only-of-type {\n",
       "        vertical-align: middle;\n",
       "    }\n",
       "\n",
       "    .dataframe tbody tr th {\n",
       "        vertical-align: top;\n",
       "    }\n",
       "\n",
       "    .dataframe thead th {\n",
       "        text-align: right;\n",
       "    }\n",
       "</style>\n",
       "<table border=\"1\" class=\"dataframe\">\n",
       "  <thead>\n",
       "    <tr style=\"text-align: right;\">\n",
       "      <th></th>\n",
       "      <th>price</th>\n",
       "      <th>area</th>\n",
       "      <th>latitude</th>\n",
       "      <th>longitude</th>\n",
       "      <th>bedrooms</th>\n",
       "      <th>bathrooms</th>\n",
       "      <th>balcony</th>\n",
       "      <th>status</th>\n",
       "      <th>new_or_old</th>\n",
       "      <th>parking</th>\n",
       "      <th>furnished_status</th>\n",
       "      <th>lift</th>\n",
       "      <th>type_of_building</th>\n",
       "    </tr>\n",
       "  </thead>\n",
       "  <tbody>\n",
       "    <tr>\n",
       "      <th>0</th>\n",
       "      <td>22400000</td>\n",
       "      <td>629</td>\n",
       "      <td>19.032800</td>\n",
       "      <td>72.896357</td>\n",
       "      <td>2</td>\n",
       "      <td>2</td>\n",
       "      <td>0</td>\n",
       "      <td>0</td>\n",
       "      <td>1</td>\n",
       "      <td>0</td>\n",
       "      <td>-1</td>\n",
       "      <td>0</td>\n",
       "      <td>Flat</td>\n",
       "    </tr>\n",
       "    <tr>\n",
       "      <th>1</th>\n",
       "      <td>35000000</td>\n",
       "      <td>974</td>\n",
       "      <td>19.032800</td>\n",
       "      <td>72.896357</td>\n",
       "      <td>3</td>\n",
       "      <td>2</td>\n",
       "      <td>0</td>\n",
       "      <td>0</td>\n",
       "      <td>1</td>\n",
       "      <td>0</td>\n",
       "      <td>-1</td>\n",
       "      <td>0</td>\n",
       "      <td>Flat</td>\n",
       "    </tr>\n",
       "    <tr>\n",
       "      <th>2</th>\n",
       "      <td>31700000</td>\n",
       "      <td>968</td>\n",
       "      <td>19.085600</td>\n",
       "      <td>72.909277</td>\n",
       "      <td>3</td>\n",
       "      <td>3</td>\n",
       "      <td>0</td>\n",
       "      <td>0</td>\n",
       "      <td>1</td>\n",
       "      <td>0</td>\n",
       "      <td>-1</td>\n",
       "      <td>0</td>\n",
       "      <td>Flat</td>\n",
       "    </tr>\n",
       "    <tr>\n",
       "      <th>3</th>\n",
       "      <td>18700000</td>\n",
       "      <td>629</td>\n",
       "      <td>19.155756</td>\n",
       "      <td>72.846862</td>\n",
       "      <td>2</td>\n",
       "      <td>2</td>\n",
       "      <td>2</td>\n",
       "      <td>1</td>\n",
       "      <td>1</td>\n",
       "      <td>2</td>\n",
       "      <td>-1</td>\n",
       "      <td>2</td>\n",
       "      <td>Flat</td>\n",
       "    </tr>\n",
       "    <tr>\n",
       "      <th>4</th>\n",
       "      <td>13500000</td>\n",
       "      <td>1090</td>\n",
       "      <td>19.177555</td>\n",
       "      <td>72.849887</td>\n",
       "      <td>2</td>\n",
       "      <td>2</td>\n",
       "      <td>0</td>\n",
       "      <td>-1</td>\n",
       "      <td>1</td>\n",
       "      <td>0</td>\n",
       "      <td>0</td>\n",
       "      <td>0</td>\n",
       "      <td>Flat</td>\n",
       "    </tr>\n",
       "    <tr>\n",
       "      <th>...</th>\n",
       "      <td>...</td>\n",
       "      <td>...</td>\n",
       "      <td>...</td>\n",
       "      <td>...</td>\n",
       "      <td>...</td>\n",
       "      <td>...</td>\n",
       "      <td>...</td>\n",
       "      <td>...</td>\n",
       "      <td>...</td>\n",
       "      <td>...</td>\n",
       "      <td>...</td>\n",
       "      <td>...</td>\n",
       "      <td>...</td>\n",
       "    </tr>\n",
       "    <tr>\n",
       "      <th>6250</th>\n",
       "      <td>19500000</td>\n",
       "      <td>810</td>\n",
       "      <td>19.138320</td>\n",
       "      <td>72.810020</td>\n",
       "      <td>2</td>\n",
       "      <td>2</td>\n",
       "      <td>0</td>\n",
       "      <td>1</td>\n",
       "      <td>0</td>\n",
       "      <td>0</td>\n",
       "      <td>1</td>\n",
       "      <td>0</td>\n",
       "      <td>Flat</td>\n",
       "    </tr>\n",
       "    <tr>\n",
       "      <th>6251</th>\n",
       "      <td>22000000</td>\n",
       "      <td>1400</td>\n",
       "      <td>19.221920</td>\n",
       "      <td>72.854250</td>\n",
       "      <td>3</td>\n",
       "      <td>3</td>\n",
       "      <td>1</td>\n",
       "      <td>1</td>\n",
       "      <td>0</td>\n",
       "      <td>1</td>\n",
       "      <td>0</td>\n",
       "      <td>1</td>\n",
       "      <td>Flat</td>\n",
       "    </tr>\n",
       "    <tr>\n",
       "      <th>6252</th>\n",
       "      <td>20000000</td>\n",
       "      <td>750</td>\n",
       "      <td>19.144320</td>\n",
       "      <td>72.824111</td>\n",
       "      <td>2</td>\n",
       "      <td>2</td>\n",
       "      <td>0</td>\n",
       "      <td>1</td>\n",
       "      <td>0</td>\n",
       "      <td>0</td>\n",
       "      <td>-1</td>\n",
       "      <td>0</td>\n",
       "      <td>Flat</td>\n",
       "    </tr>\n",
       "    <tr>\n",
       "      <th>6253</th>\n",
       "      <td>11000000</td>\n",
       "      <td>700</td>\n",
       "      <td>19.047201</td>\n",
       "      <td>72.872225</td>\n",
       "      <td>2</td>\n",
       "      <td>2</td>\n",
       "      <td>0</td>\n",
       "      <td>1</td>\n",
       "      <td>0</td>\n",
       "      <td>0</td>\n",
       "      <td>2</td>\n",
       "      <td>0</td>\n",
       "      <td>Flat</td>\n",
       "    </tr>\n",
       "    <tr>\n",
       "      <th>6254</th>\n",
       "      <td>15000000</td>\n",
       "      <td>900</td>\n",
       "      <td>19.168818</td>\n",
       "      <td>72.936375</td>\n",
       "      <td>2</td>\n",
       "      <td>2</td>\n",
       "      <td>0</td>\n",
       "      <td>1</td>\n",
       "      <td>0</td>\n",
       "      <td>0</td>\n",
       "      <td>-1</td>\n",
       "      <td>0</td>\n",
       "      <td>Flat</td>\n",
       "    </tr>\n",
       "  </tbody>\n",
       "</table>\n",
       "<p>4428 rows × 13 columns</p>\n",
       "</div>"
      ],
      "text/plain": [
       "         price  area   latitude  longitude  bedrooms  bathrooms  balcony  \\\n",
       "0     22400000   629  19.032800  72.896357         2          2        0   \n",
       "1     35000000   974  19.032800  72.896357         3          2        0   \n",
       "2     31700000   968  19.085600  72.909277         3          3        0   \n",
       "3     18700000   629  19.155756  72.846862         2          2        2   \n",
       "4     13500000  1090  19.177555  72.849887         2          2        0   \n",
       "...        ...   ...        ...        ...       ...        ...      ...   \n",
       "6250  19500000   810  19.138320  72.810020         2          2        0   \n",
       "6251  22000000  1400  19.221920  72.854250         3          3        1   \n",
       "6252  20000000   750  19.144320  72.824111         2          2        0   \n",
       "6253  11000000   700  19.047201  72.872225         2          2        0   \n",
       "6254  15000000   900  19.168818  72.936375         2          2        0   \n",
       "\n",
       "     status new_or_old  parking furnished_status  lift type_of_building  \n",
       "0         0          1        0               -1     0             Flat  \n",
       "1         0          1        0               -1     0             Flat  \n",
       "2         0          1        0               -1     0             Flat  \n",
       "3         1          1        2               -1     2             Flat  \n",
       "4        -1          1        0                0     0             Flat  \n",
       "...     ...        ...      ...              ...   ...              ...  \n",
       "6250      1          0        0                1     0             Flat  \n",
       "6251      1          0        1                0     1             Flat  \n",
       "6252      1          0        0               -1     0             Flat  \n",
       "6253      1          0        0                2     0             Flat  \n",
       "6254      1          0        0               -1     0             Flat  \n",
       "\n",
       "[4428 rows x 13 columns]"
      ]
     },
     "execution_count": 46,
     "metadata": {},
     "output_type": "execute_result"
    }
   ],
   "source": [
    "data_filtered.new_or_old[data_filtered.new_or_old == 'New Property'] = 1\n",
    "data_filtered.new_or_old[data_filtered.new_or_old == 'Resale'] = 0\n",
    "data_filtered"
   ]
  },
  {
   "cell_type": "code",
   "execution_count": 47,
   "id": "e83f55a9-e0ca-4c86-90ec-43a8cbbfaf4d",
   "metadata": {},
   "outputs": [
    {
     "data": {
      "text/plain": [
       "array(['Flat', 'Individual House'], dtype=object)"
      ]
     },
     "execution_count": 47,
     "metadata": {},
     "output_type": "execute_result"
    }
   ],
   "source": [
    "data_filtered[\"type_of_building\"].unique()"
   ]
  },
  {
   "cell_type": "markdown",
   "id": "e8de2218-ad87-4e3c-93df-ce71b0078147",
   "metadata": {},
   "source": [
    "Заменим Flat на 1, а Individual House на 2"
   ]
  },
  {
   "cell_type": "code",
   "execution_count": 48,
   "id": "022f9ef4-2a17-4d41-b618-af5bd9d764df",
   "metadata": {},
   "outputs": [
    {
     "data": {
      "text/html": [
       "<div>\n",
       "<style scoped>\n",
       "    .dataframe tbody tr th:only-of-type {\n",
       "        vertical-align: middle;\n",
       "    }\n",
       "\n",
       "    .dataframe tbody tr th {\n",
       "        vertical-align: top;\n",
       "    }\n",
       "\n",
       "    .dataframe thead th {\n",
       "        text-align: right;\n",
       "    }\n",
       "</style>\n",
       "<table border=\"1\" class=\"dataframe\">\n",
       "  <thead>\n",
       "    <tr style=\"text-align: right;\">\n",
       "      <th></th>\n",
       "      <th>price</th>\n",
       "      <th>area</th>\n",
       "      <th>latitude</th>\n",
       "      <th>longitude</th>\n",
       "      <th>bedrooms</th>\n",
       "      <th>bathrooms</th>\n",
       "      <th>balcony</th>\n",
       "      <th>status</th>\n",
       "      <th>new_or_old</th>\n",
       "      <th>parking</th>\n",
       "      <th>furnished_status</th>\n",
       "      <th>lift</th>\n",
       "      <th>type_of_building</th>\n",
       "    </tr>\n",
       "  </thead>\n",
       "  <tbody>\n",
       "    <tr>\n",
       "      <th>0</th>\n",
       "      <td>22400000</td>\n",
       "      <td>629</td>\n",
       "      <td>19.032800</td>\n",
       "      <td>72.896357</td>\n",
       "      <td>2</td>\n",
       "      <td>2</td>\n",
       "      <td>0</td>\n",
       "      <td>0</td>\n",
       "      <td>1</td>\n",
       "      <td>0</td>\n",
       "      <td>-1</td>\n",
       "      <td>0</td>\n",
       "      <td>1</td>\n",
       "    </tr>\n",
       "    <tr>\n",
       "      <th>1</th>\n",
       "      <td>35000000</td>\n",
       "      <td>974</td>\n",
       "      <td>19.032800</td>\n",
       "      <td>72.896357</td>\n",
       "      <td>3</td>\n",
       "      <td>2</td>\n",
       "      <td>0</td>\n",
       "      <td>0</td>\n",
       "      <td>1</td>\n",
       "      <td>0</td>\n",
       "      <td>-1</td>\n",
       "      <td>0</td>\n",
       "      <td>1</td>\n",
       "    </tr>\n",
       "    <tr>\n",
       "      <th>2</th>\n",
       "      <td>31700000</td>\n",
       "      <td>968</td>\n",
       "      <td>19.085600</td>\n",
       "      <td>72.909277</td>\n",
       "      <td>3</td>\n",
       "      <td>3</td>\n",
       "      <td>0</td>\n",
       "      <td>0</td>\n",
       "      <td>1</td>\n",
       "      <td>0</td>\n",
       "      <td>-1</td>\n",
       "      <td>0</td>\n",
       "      <td>1</td>\n",
       "    </tr>\n",
       "    <tr>\n",
       "      <th>3</th>\n",
       "      <td>18700000</td>\n",
       "      <td>629</td>\n",
       "      <td>19.155756</td>\n",
       "      <td>72.846862</td>\n",
       "      <td>2</td>\n",
       "      <td>2</td>\n",
       "      <td>2</td>\n",
       "      <td>1</td>\n",
       "      <td>1</td>\n",
       "      <td>2</td>\n",
       "      <td>-1</td>\n",
       "      <td>2</td>\n",
       "      <td>1</td>\n",
       "    </tr>\n",
       "    <tr>\n",
       "      <th>4</th>\n",
       "      <td>13500000</td>\n",
       "      <td>1090</td>\n",
       "      <td>19.177555</td>\n",
       "      <td>72.849887</td>\n",
       "      <td>2</td>\n",
       "      <td>2</td>\n",
       "      <td>0</td>\n",
       "      <td>-1</td>\n",
       "      <td>1</td>\n",
       "      <td>0</td>\n",
       "      <td>0</td>\n",
       "      <td>0</td>\n",
       "      <td>1</td>\n",
       "    </tr>\n",
       "    <tr>\n",
       "      <th>...</th>\n",
       "      <td>...</td>\n",
       "      <td>...</td>\n",
       "      <td>...</td>\n",
       "      <td>...</td>\n",
       "      <td>...</td>\n",
       "      <td>...</td>\n",
       "      <td>...</td>\n",
       "      <td>...</td>\n",
       "      <td>...</td>\n",
       "      <td>...</td>\n",
       "      <td>...</td>\n",
       "      <td>...</td>\n",
       "      <td>...</td>\n",
       "    </tr>\n",
       "    <tr>\n",
       "      <th>6250</th>\n",
       "      <td>19500000</td>\n",
       "      <td>810</td>\n",
       "      <td>19.138320</td>\n",
       "      <td>72.810020</td>\n",
       "      <td>2</td>\n",
       "      <td>2</td>\n",
       "      <td>0</td>\n",
       "      <td>1</td>\n",
       "      <td>0</td>\n",
       "      <td>0</td>\n",
       "      <td>1</td>\n",
       "      <td>0</td>\n",
       "      <td>1</td>\n",
       "    </tr>\n",
       "    <tr>\n",
       "      <th>6251</th>\n",
       "      <td>22000000</td>\n",
       "      <td>1400</td>\n",
       "      <td>19.221920</td>\n",
       "      <td>72.854250</td>\n",
       "      <td>3</td>\n",
       "      <td>3</td>\n",
       "      <td>1</td>\n",
       "      <td>1</td>\n",
       "      <td>0</td>\n",
       "      <td>1</td>\n",
       "      <td>0</td>\n",
       "      <td>1</td>\n",
       "      <td>1</td>\n",
       "    </tr>\n",
       "    <tr>\n",
       "      <th>6252</th>\n",
       "      <td>20000000</td>\n",
       "      <td>750</td>\n",
       "      <td>19.144320</td>\n",
       "      <td>72.824111</td>\n",
       "      <td>2</td>\n",
       "      <td>2</td>\n",
       "      <td>0</td>\n",
       "      <td>1</td>\n",
       "      <td>0</td>\n",
       "      <td>0</td>\n",
       "      <td>-1</td>\n",
       "      <td>0</td>\n",
       "      <td>1</td>\n",
       "    </tr>\n",
       "    <tr>\n",
       "      <th>6253</th>\n",
       "      <td>11000000</td>\n",
       "      <td>700</td>\n",
       "      <td>19.047201</td>\n",
       "      <td>72.872225</td>\n",
       "      <td>2</td>\n",
       "      <td>2</td>\n",
       "      <td>0</td>\n",
       "      <td>1</td>\n",
       "      <td>0</td>\n",
       "      <td>0</td>\n",
       "      <td>2</td>\n",
       "      <td>0</td>\n",
       "      <td>1</td>\n",
       "    </tr>\n",
       "    <tr>\n",
       "      <th>6254</th>\n",
       "      <td>15000000</td>\n",
       "      <td>900</td>\n",
       "      <td>19.168818</td>\n",
       "      <td>72.936375</td>\n",
       "      <td>2</td>\n",
       "      <td>2</td>\n",
       "      <td>0</td>\n",
       "      <td>1</td>\n",
       "      <td>0</td>\n",
       "      <td>0</td>\n",
       "      <td>-1</td>\n",
       "      <td>0</td>\n",
       "      <td>1</td>\n",
       "    </tr>\n",
       "  </tbody>\n",
       "</table>\n",
       "<p>4428 rows × 13 columns</p>\n",
       "</div>"
      ],
      "text/plain": [
       "         price  area   latitude  longitude  bedrooms  bathrooms  balcony  \\\n",
       "0     22400000   629  19.032800  72.896357         2          2        0   \n",
       "1     35000000   974  19.032800  72.896357         3          2        0   \n",
       "2     31700000   968  19.085600  72.909277         3          3        0   \n",
       "3     18700000   629  19.155756  72.846862         2          2        2   \n",
       "4     13500000  1090  19.177555  72.849887         2          2        0   \n",
       "...        ...   ...        ...        ...       ...        ...      ...   \n",
       "6250  19500000   810  19.138320  72.810020         2          2        0   \n",
       "6251  22000000  1400  19.221920  72.854250         3          3        1   \n",
       "6252  20000000   750  19.144320  72.824111         2          2        0   \n",
       "6253  11000000   700  19.047201  72.872225         2          2        0   \n",
       "6254  15000000   900  19.168818  72.936375         2          2        0   \n",
       "\n",
       "     status new_or_old  parking furnished_status  lift type_of_building  \n",
       "0         0          1        0               -1     0                1  \n",
       "1         0          1        0               -1     0                1  \n",
       "2         0          1        0               -1     0                1  \n",
       "3         1          1        2               -1     2                1  \n",
       "4        -1          1        0                0     0                1  \n",
       "...     ...        ...      ...              ...   ...              ...  \n",
       "6250      1          0        0                1     0                1  \n",
       "6251      1          0        1                0     1                1  \n",
       "6252      1          0        0               -1     0                1  \n",
       "6253      1          0        0                2     0                1  \n",
       "6254      1          0        0               -1     0                1  \n",
       "\n",
       "[4428 rows x 13 columns]"
      ]
     },
     "execution_count": 48,
     "metadata": {},
     "output_type": "execute_result"
    }
   ],
   "source": [
    "data_filtered.type_of_building[data_filtered.type_of_building == 'Flat'] = 1\n",
    "data_filtered.type_of_building[data_filtered.type_of_building == 'Individual House'] = 2\n",
    "data_filtered"
   ]
  },
  {
   "cell_type": "markdown",
   "id": "1674975c-8516-4432-914e-173a394d2075",
   "metadata": {},
   "source": [
    "## Выделение целевых признаков и предикторов, разбиение данных на обучающую и тестовую выборки"
   ]
  },
  {
   "cell_type": "code",
   "execution_count": 49,
   "id": "4441c38a-f299-4952-8aa3-332f43df1ba8",
   "metadata": {},
   "outputs": [],
   "source": [
    "y = data_filtered[\"price\"]\n",
    "X = data_filtered.drop([\"price\"], axis=1)"
   ]
  },
  {
   "cell_type": "code",
   "execution_count": 50,
   "id": "63813f12-569f-490e-bcfa-82a3c96aa0cc",
   "metadata": {},
   "outputs": [
    {
     "data": {
      "text/plain": [
       "0       22400000\n",
       "1       35000000\n",
       "2       31700000\n",
       "3       18700000\n",
       "4       13500000\n",
       "          ...   \n",
       "6250    19500000\n",
       "6251    22000000\n",
       "6252    20000000\n",
       "6253    11000000\n",
       "6254    15000000\n",
       "Name: price, Length: 4428, dtype: int32"
      ]
     },
     "execution_count": 50,
     "metadata": {},
     "output_type": "execute_result"
    }
   ],
   "source": [
    "y"
   ]
  },
  {
   "cell_type": "code",
   "execution_count": 51,
   "id": "01dfc663-06b6-4312-9afc-7b812ae4d58e",
   "metadata": {},
   "outputs": [
    {
     "data": {
      "text/html": [
       "<div>\n",
       "<style scoped>\n",
       "    .dataframe tbody tr th:only-of-type {\n",
       "        vertical-align: middle;\n",
       "    }\n",
       "\n",
       "    .dataframe tbody tr th {\n",
       "        vertical-align: top;\n",
       "    }\n",
       "\n",
       "    .dataframe thead th {\n",
       "        text-align: right;\n",
       "    }\n",
       "</style>\n",
       "<table border=\"1\" class=\"dataframe\">\n",
       "  <thead>\n",
       "    <tr style=\"text-align: right;\">\n",
       "      <th></th>\n",
       "      <th>area</th>\n",
       "      <th>latitude</th>\n",
       "      <th>longitude</th>\n",
       "      <th>bedrooms</th>\n",
       "      <th>bathrooms</th>\n",
       "      <th>balcony</th>\n",
       "      <th>status</th>\n",
       "      <th>new_or_old</th>\n",
       "      <th>parking</th>\n",
       "      <th>furnished_status</th>\n",
       "      <th>lift</th>\n",
       "      <th>type_of_building</th>\n",
       "    </tr>\n",
       "  </thead>\n",
       "  <tbody>\n",
       "    <tr>\n",
       "      <th>0</th>\n",
       "      <td>629</td>\n",
       "      <td>19.032800</td>\n",
       "      <td>72.896357</td>\n",
       "      <td>2</td>\n",
       "      <td>2</td>\n",
       "      <td>0</td>\n",
       "      <td>0</td>\n",
       "      <td>1</td>\n",
       "      <td>0</td>\n",
       "      <td>-1</td>\n",
       "      <td>0</td>\n",
       "      <td>1</td>\n",
       "    </tr>\n",
       "    <tr>\n",
       "      <th>1</th>\n",
       "      <td>974</td>\n",
       "      <td>19.032800</td>\n",
       "      <td>72.896357</td>\n",
       "      <td>3</td>\n",
       "      <td>2</td>\n",
       "      <td>0</td>\n",
       "      <td>0</td>\n",
       "      <td>1</td>\n",
       "      <td>0</td>\n",
       "      <td>-1</td>\n",
       "      <td>0</td>\n",
       "      <td>1</td>\n",
       "    </tr>\n",
       "    <tr>\n",
       "      <th>2</th>\n",
       "      <td>968</td>\n",
       "      <td>19.085600</td>\n",
       "      <td>72.909277</td>\n",
       "      <td>3</td>\n",
       "      <td>3</td>\n",
       "      <td>0</td>\n",
       "      <td>0</td>\n",
       "      <td>1</td>\n",
       "      <td>0</td>\n",
       "      <td>-1</td>\n",
       "      <td>0</td>\n",
       "      <td>1</td>\n",
       "    </tr>\n",
       "    <tr>\n",
       "      <th>3</th>\n",
       "      <td>629</td>\n",
       "      <td>19.155756</td>\n",
       "      <td>72.846862</td>\n",
       "      <td>2</td>\n",
       "      <td>2</td>\n",
       "      <td>2</td>\n",
       "      <td>1</td>\n",
       "      <td>1</td>\n",
       "      <td>2</td>\n",
       "      <td>-1</td>\n",
       "      <td>2</td>\n",
       "      <td>1</td>\n",
       "    </tr>\n",
       "    <tr>\n",
       "      <th>4</th>\n",
       "      <td>1090</td>\n",
       "      <td>19.177555</td>\n",
       "      <td>72.849887</td>\n",
       "      <td>2</td>\n",
       "      <td>2</td>\n",
       "      <td>0</td>\n",
       "      <td>-1</td>\n",
       "      <td>1</td>\n",
       "      <td>0</td>\n",
       "      <td>0</td>\n",
       "      <td>0</td>\n",
       "      <td>1</td>\n",
       "    </tr>\n",
       "    <tr>\n",
       "      <th>...</th>\n",
       "      <td>...</td>\n",
       "      <td>...</td>\n",
       "      <td>...</td>\n",
       "      <td>...</td>\n",
       "      <td>...</td>\n",
       "      <td>...</td>\n",
       "      <td>...</td>\n",
       "      <td>...</td>\n",
       "      <td>...</td>\n",
       "      <td>...</td>\n",
       "      <td>...</td>\n",
       "      <td>...</td>\n",
       "    </tr>\n",
       "    <tr>\n",
       "      <th>6250</th>\n",
       "      <td>810</td>\n",
       "      <td>19.138320</td>\n",
       "      <td>72.810020</td>\n",
       "      <td>2</td>\n",
       "      <td>2</td>\n",
       "      <td>0</td>\n",
       "      <td>1</td>\n",
       "      <td>0</td>\n",
       "      <td>0</td>\n",
       "      <td>1</td>\n",
       "      <td>0</td>\n",
       "      <td>1</td>\n",
       "    </tr>\n",
       "    <tr>\n",
       "      <th>6251</th>\n",
       "      <td>1400</td>\n",
       "      <td>19.221920</td>\n",
       "      <td>72.854250</td>\n",
       "      <td>3</td>\n",
       "      <td>3</td>\n",
       "      <td>1</td>\n",
       "      <td>1</td>\n",
       "      <td>0</td>\n",
       "      <td>1</td>\n",
       "      <td>0</td>\n",
       "      <td>1</td>\n",
       "      <td>1</td>\n",
       "    </tr>\n",
       "    <tr>\n",
       "      <th>6252</th>\n",
       "      <td>750</td>\n",
       "      <td>19.144320</td>\n",
       "      <td>72.824111</td>\n",
       "      <td>2</td>\n",
       "      <td>2</td>\n",
       "      <td>0</td>\n",
       "      <td>1</td>\n",
       "      <td>0</td>\n",
       "      <td>0</td>\n",
       "      <td>-1</td>\n",
       "      <td>0</td>\n",
       "      <td>1</td>\n",
       "    </tr>\n",
       "    <tr>\n",
       "      <th>6253</th>\n",
       "      <td>700</td>\n",
       "      <td>19.047201</td>\n",
       "      <td>72.872225</td>\n",
       "      <td>2</td>\n",
       "      <td>2</td>\n",
       "      <td>0</td>\n",
       "      <td>1</td>\n",
       "      <td>0</td>\n",
       "      <td>0</td>\n",
       "      <td>2</td>\n",
       "      <td>0</td>\n",
       "      <td>1</td>\n",
       "    </tr>\n",
       "    <tr>\n",
       "      <th>6254</th>\n",
       "      <td>900</td>\n",
       "      <td>19.168818</td>\n",
       "      <td>72.936375</td>\n",
       "      <td>2</td>\n",
       "      <td>2</td>\n",
       "      <td>0</td>\n",
       "      <td>1</td>\n",
       "      <td>0</td>\n",
       "      <td>0</td>\n",
       "      <td>-1</td>\n",
       "      <td>0</td>\n",
       "      <td>1</td>\n",
       "    </tr>\n",
       "  </tbody>\n",
       "</table>\n",
       "<p>4428 rows × 12 columns</p>\n",
       "</div>"
      ],
      "text/plain": [
       "      area   latitude  longitude  bedrooms  bathrooms  balcony status  \\\n",
       "0      629  19.032800  72.896357         2          2        0      0   \n",
       "1      974  19.032800  72.896357         3          2        0      0   \n",
       "2      968  19.085600  72.909277         3          3        0      0   \n",
       "3      629  19.155756  72.846862         2          2        2      1   \n",
       "4     1090  19.177555  72.849887         2          2        0     -1   \n",
       "...    ...        ...        ...       ...        ...      ...    ...   \n",
       "6250   810  19.138320  72.810020         2          2        0      1   \n",
       "6251  1400  19.221920  72.854250         3          3        1      1   \n",
       "6252   750  19.144320  72.824111         2          2        0      1   \n",
       "6253   700  19.047201  72.872225         2          2        0      1   \n",
       "6254   900  19.168818  72.936375         2          2        0      1   \n",
       "\n",
       "     new_or_old  parking furnished_status  lift type_of_building  \n",
       "0             1        0               -1     0                1  \n",
       "1             1        0               -1     0                1  \n",
       "2             1        0               -1     0                1  \n",
       "3             1        2               -1     2                1  \n",
       "4             1        0                0     0                1  \n",
       "...         ...      ...              ...   ...              ...  \n",
       "6250          0        0                1     0                1  \n",
       "6251          0        1                0     1                1  \n",
       "6252          0        0               -1     0                1  \n",
       "6253          0        0                2     0                1  \n",
       "6254          0        0               -1     0                1  \n",
       "\n",
       "[4428 rows x 12 columns]"
      ]
     },
     "execution_count": 51,
     "metadata": {},
     "output_type": "execute_result"
    }
   ],
   "source": [
    "X"
   ]
  },
  {
   "cell_type": "code",
   "execution_count": null,
   "id": "cbdedded-020f-419d-a4a1-0ee86f961fd5",
   "metadata": {},
   "outputs": [],
   "source": []
  },
  {
   "cell_type": "code",
   "execution_count": 52,
   "id": "2b44824e-f85c-439e-ab22-321c849c811e",
   "metadata": {},
   "outputs": [],
   "source": [
    "from sklearn.linear_model import LinearRegression, Lasso, Ridge\n",
    "from sklearn.metrics import mean_squared_error, mean_absolute_error, mean_absolute_percentage_error,r2_score\n",
    "from math import sqrt\n",
    "from sklearn.model_selection import GridSearchCV, RandomizedSearchCV\n",
    "import numpy as np\n",
    "\n",
    "from sklearn.model_selection import train_test_split\n",
    "X_train, X_test, y_train, y_test = train_test_split(X, y, test_size=0.2)"
   ]
  },
  {
   "cell_type": "code",
   "execution_count": 53,
   "id": "1c96ffa8-f0a8-4007-a98e-532d7f0cbb88",
   "metadata": {},
   "outputs": [
    {
     "data": {
      "text/plain": [
       "((3542, 12), (3542,), (886, 12), (886,))"
      ]
     },
     "execution_count": 53,
     "metadata": {},
     "output_type": "execute_result"
    }
   ],
   "source": [
    "X_train.shape, y_train.shape, X_test.shape, y_test.shape"
   ]
  },
  {
   "cell_type": "markdown",
   "id": "d379b2bb-60d2-4afc-be61-1322b4032a36",
   "metadata": {},
   "source": [
    "## Линейная регрессия"
   ]
  },
  {
   "cell_type": "code",
   "execution_count": 54,
   "id": "c512a56b-1ab0-46f8-b23c-df6f56ca5749",
   "metadata": {},
   "outputs": [],
   "source": [
    "def metrics(y_test, y_pred):\n",
    "    print(f'MAE: {mean_absolute_error(y_test, y_pred)}')\n",
    "    print(f'MSE: {mean_squared_error(y_test, y_pred)}')\n",
    "    print(f'RMSE: {sqrt(mean_squared_error(y_test, y_pred))}')\n",
    "    print(f'MAPE: {sqrt(mean_absolute_percentage_error(y_test, y_pred))}')\n",
    "    print(f'R^2: {r2_score(y_test, y_pred)}')"
   ]
  },
  {
   "cell_type": "code",
   "execution_count": 55,
   "id": "007daf5d-8d0b-483b-a741-8c207374afff",
   "metadata": {},
   "outputs": [],
   "source": [
    "X_train_area = X_train['area'].values.reshape(-1,1)\n",
    "X_test_area = X_test['area'].values.reshape(-1,1)\n",
    "parameters = {'alpha': np.arange(0, 1.1, 0.1)}"
   ]
  },
  {
   "cell_type": "code",
   "execution_count": 56,
   "id": "cf3d304b-7fc7-4ff8-9688-a0545f6d2dc0",
   "metadata": {},
   "outputs": [],
   "source": [
    "lr = LinearRegression().fit(X_train_area, y_train)\n",
    "y_pred = lr.predict(X_test_area)"
   ]
  },
  {
   "cell_type": "code",
   "execution_count": 57,
   "id": "225fccab-6d36-4c2c-b5c3-f2e167da8b03",
   "metadata": {},
   "outputs": [
    {
     "name": "stdout",
     "output_type": "stream",
     "text": [
      "MAE: 6910743.568355804\n",
      "MSE: 81216195799213.17\n",
      "RMSE: 9012002.873901738\n",
      "MAPE: 0.6717820172440352\n",
      "R^2: 0.2789380424207192\n"
     ]
    }
   ],
   "source": [
    "metrics(y_test, y_pred)"
   ]
  },
  {
   "cell_type": "code",
   "execution_count": 58,
   "id": "df2a3063-2006-473b-bd73-847c857c2ae4",
   "metadata": {},
   "outputs": [],
   "source": [
    "# L2\n",
    "ridge = GridSearchCV(Ridge(),parameters).fit(X_train_area, y_train)\n",
    "y_pred = ridge.predict(X_test_area)"
   ]
  },
  {
   "cell_type": "code",
   "execution_count": 59,
   "id": "09cb9c1a-d050-4def-8010-2d2d3942691e",
   "metadata": {},
   "outputs": [
    {
     "name": "stdout",
     "output_type": "stream",
     "text": [
      "MAE: 6910743.568674911\n",
      "MSE: 81216195808048.3\n",
      "RMSE: 9012002.874391925\n",
      "MAPE: 0.6717820173599677\n",
      "R^2: 0.27893804234227826\n"
     ]
    }
   ],
   "source": [
    "metrics(y_test, y_pred)"
   ]
  },
  {
   "cell_type": "code",
   "execution_count": 60,
   "id": "3b88a06e-b183-4acd-b354-33fc9a45c2fc",
   "metadata": {},
   "outputs": [],
   "source": [
    "# L1\n",
    "lasso = GridSearchCV(Lasso(),parameters).fit(X_train_area, y_train)\n",
    "y_pred = lasso.predict(X_test_area)"
   ]
  },
  {
   "cell_type": "code",
   "execution_count": 61,
   "id": "45f0246a-0e2f-4831-96a1-a1c94b48c3a3",
   "metadata": {},
   "outputs": [
    {
     "name": "stdout",
     "output_type": "stream",
     "text": [
      "MAE: 6910743.568416851\n",
      "MSE: 81216195800903.33\n",
      "RMSE: 9012002.873995509\n",
      "MAPE: 0.6717820172662132\n",
      "R^2: 0.2789380424057134\n"
     ]
    }
   ],
   "source": [
    "metrics(y_test, y_pred)"
   ]
  },
  {
   "cell_type": "markdown",
   "id": "ee652127-0670-49c7-8a2a-3dd578f6c5bb",
   "metadata": {},
   "source": [
    "## Множественная регрессия"
   ]
  },
  {
   "cell_type": "code",
   "execution_count": 62,
   "id": "26fbbd30-c7b6-4dfa-abb2-7433c1b94d12",
   "metadata": {},
   "outputs": [],
   "source": [
    "lr = LinearRegression().fit(X_train, y_train)\n",
    "y_pred = lr.predict(X_test)"
   ]
  },
  {
   "cell_type": "code",
   "execution_count": 63,
   "id": "11303d66-1565-41cf-a67f-dc619448bc8a",
   "metadata": {},
   "outputs": [
    {
     "name": "stdout",
     "output_type": "stream",
     "text": [
      "MAE: 4925639.007682552\n",
      "MSE: 45097610264308.81\n",
      "RMSE: 6715475.430995843\n",
      "MAPE: 0.5444101320540373\n",
      "R^2: 0.5996097721724979\n"
     ]
    }
   ],
   "source": [
    "metrics(y_test, y_pred)"
   ]
  },
  {
   "cell_type": "code",
   "execution_count": 64,
   "id": "56273080-554c-4f24-9cee-d7ec9b8c734c",
   "metadata": {},
   "outputs": [],
   "source": [
    "# L1\n",
    "lasso = GridSearchCV(Lasso(),parameters).fit(X_train, y_train)\n",
    "y_pred = lasso.predict(X_test)"
   ]
  },
  {
   "cell_type": "code",
   "execution_count": 65,
   "id": "97f5a0bd-4d3d-44b3-bb50-76521e23958f",
   "metadata": {},
   "outputs": [
    {
     "name": "stdout",
     "output_type": "stream",
     "text": [
      "MAE: 4925639.477975982\n",
      "MSE: 45097635971317.24\n",
      "RMSE: 6715477.345008115\n",
      "MAPE: 0.544410095009527\n",
      "R^2: 0.5996095439378997\n"
     ]
    }
   ],
   "source": [
    "metrics(y_test, y_pred)"
   ]
  },
  {
   "cell_type": "code",
   "execution_count": 66,
   "id": "dc4e953b-8382-45e7-b7e2-cf84b089d32e",
   "metadata": {},
   "outputs": [],
   "source": [
    "# L2\n",
    "ridge = GridSearchCV(Ridge(),parameters).fit(X_train, y_train)\n",
    "y_pred = ridge.predict(X_test)"
   ]
  },
  {
   "cell_type": "code",
   "execution_count": 67,
   "id": "e639c8dc-4410-472b-b3ad-4ff5722838e3",
   "metadata": {},
   "outputs": [
    {
     "name": "stdout",
     "output_type": "stream",
     "text": [
      "MAE: 4926394.616420592\n",
      "MSE: 45127216885309.22\n",
      "RMSE: 6717679.427101983\n",
      "MAPE: 0.5443794918722665\n",
      "R^2: 0.5993469156340232\n"
     ]
    }
   ],
   "source": [
    "metrics(y_test, y_pred)"
   ]
  },
  {
   "cell_type": "markdown",
   "id": "9d4f66ea-b7ab-4cab-b25c-3e74cbf02d21",
   "metadata": {},
   "source": [
    "## Полиномиальная регрессия"
   ]
  },
  {
   "cell_type": "code",
   "execution_count": 68,
   "id": "0943a8c0-3fc8-49f4-9e8f-7bd1f8ecbae9",
   "metadata": {},
   "outputs": [],
   "source": [
    "from sklearn.preprocessing import PolynomialFeatures"
   ]
  },
  {
   "cell_type": "code",
   "execution_count": 69,
   "id": "68f1694c-94db-49b1-9024-d73820b8fcd0",
   "metadata": {},
   "outputs": [],
   "source": [
    "p = PolynomialFeatures()\n",
    "X_train_p = p.fit_transform(X_train)\n",
    "X_test_p = p.fit_transform(X_test)\n",
    "parameters = {'alpha': np.arange(0, 1.1, 0.1)}"
   ]
  },
  {
   "cell_type": "code",
   "execution_count": 70,
   "id": "a3efb817-ee65-4a42-a9d0-818949d12ce8",
   "metadata": {},
   "outputs": [
    {
     "name": "stdout",
     "output_type": "stream",
     "text": [
      "MAE: 4716454.679667109\n",
      "MSE: 41597592180106.54\n",
      "RMSE: 6449619.537624412\n",
      "MAPE: 0.534939207311106\n",
      "R^2: 0.6306839916249465\n",
      "\n",
      "\n",
      "\n",
      "MAE: 4921555.176317305\n",
      "MSE: 44663538628111.08\n",
      "RMSE: 6683078.529249157\n",
      "MAPE: 0.5432724572683681\n",
      "R^2: 0.6034635914833675\n",
      "\n",
      "\n",
      "\n",
      "MAE: 4711894.066309255\n",
      "MSE: 41569094136662.07\n",
      "RMSE: 6447409.87813417\n",
      "MAPE: 0.5342524761554072\n",
      "R^2: 0.6309370058764887\n"
     ]
    }
   ],
   "source": [
    "lr = LinearRegression().fit(X_train_p, y_train)\n",
    "y_pred = lr.predict(X_test_p)\n",
    "metrics(y_test,y_pred)\n",
    "print(\"\\n\\n\")\n",
    "lasso_optimal = GridSearchCV(Lasso(),parameters).fit(X_train_p,y_train)\n",
    "y_pred = lasso_optimal.predict(X_test_p)\n",
    "metrics(y_test,y_pred)\n",
    "print(\"\\n\\n\")\n",
    "ridge_optimal = GridSearchCV(Ridge(),parameters).fit(X_train_p,y_train)\n",
    "y_pred = ridge_optimal.predict(X_test_p)\n",
    "metrics(y_test,y_pred)"
   ]
  },
  {
   "cell_type": "markdown",
   "id": "8dcd9cf4-943c-4a9a-bf9d-83c1689931cb",
   "metadata": {},
   "source": [
    "## Пайплайн"
   ]
  },
  {
   "cell_type": "code",
   "execution_count": 71,
   "id": "cf85e517-dca5-4426-bc33-7249cc4f39bd",
   "metadata": {},
   "outputs": [],
   "source": [
    "from sklearn.preprocessing import StandardScaler\n",
    "from sklearn.pipeline import Pipeline\n",
    "from sklearn.linear_model import ElasticNet"
   ]
  },
  {
   "cell_type": "code",
   "execution_count": 72,
   "id": "4a96fa3a-6dab-4a02-b439-0e68fb4639e3",
   "metadata": {},
   "outputs": [
    {
     "data": {
      "text/html": [
       "<style>#sk-container-id-1 {color: black;}#sk-container-id-1 pre{padding: 0;}#sk-container-id-1 div.sk-toggleable {background-color: white;}#sk-container-id-1 label.sk-toggleable__label {cursor: pointer;display: block;width: 100%;margin-bottom: 0;padding: 0.3em;box-sizing: border-box;text-align: center;}#sk-container-id-1 label.sk-toggleable__label-arrow:before {content: \"▸\";float: left;margin-right: 0.25em;color: #696969;}#sk-container-id-1 label.sk-toggleable__label-arrow:hover:before {color: black;}#sk-container-id-1 div.sk-estimator:hover label.sk-toggleable__label-arrow:before {color: black;}#sk-container-id-1 div.sk-toggleable__content {max-height: 0;max-width: 0;overflow: hidden;text-align: left;background-color: #f0f8ff;}#sk-container-id-1 div.sk-toggleable__content pre {margin: 0.2em;color: black;border-radius: 0.25em;background-color: #f0f8ff;}#sk-container-id-1 input.sk-toggleable__control:checked~div.sk-toggleable__content {max-height: 200px;max-width: 100%;overflow: auto;}#sk-container-id-1 input.sk-toggleable__control:checked~label.sk-toggleable__label-arrow:before {content: \"▾\";}#sk-container-id-1 div.sk-estimator input.sk-toggleable__control:checked~label.sk-toggleable__label {background-color: #d4ebff;}#sk-container-id-1 div.sk-label input.sk-toggleable__control:checked~label.sk-toggleable__label {background-color: #d4ebff;}#sk-container-id-1 input.sk-hidden--visually {border: 0;clip: rect(1px 1px 1px 1px);clip: rect(1px, 1px, 1px, 1px);height: 1px;margin: -1px;overflow: hidden;padding: 0;position: absolute;width: 1px;}#sk-container-id-1 div.sk-estimator {font-family: monospace;background-color: #f0f8ff;border: 1px dotted black;border-radius: 0.25em;box-sizing: border-box;margin-bottom: 0.5em;}#sk-container-id-1 div.sk-estimator:hover {background-color: #d4ebff;}#sk-container-id-1 div.sk-parallel-item::after {content: \"\";width: 100%;border-bottom: 1px solid gray;flex-grow: 1;}#sk-container-id-1 div.sk-label:hover label.sk-toggleable__label {background-color: #d4ebff;}#sk-container-id-1 div.sk-serial::before {content: \"\";position: absolute;border-left: 1px solid gray;box-sizing: border-box;top: 0;bottom: 0;left: 50%;z-index: 0;}#sk-container-id-1 div.sk-serial {display: flex;flex-direction: column;align-items: center;background-color: white;padding-right: 0.2em;padding-left: 0.2em;position: relative;}#sk-container-id-1 div.sk-item {position: relative;z-index: 1;}#sk-container-id-1 div.sk-parallel {display: flex;align-items: stretch;justify-content: center;background-color: white;position: relative;}#sk-container-id-1 div.sk-item::before, #sk-container-id-1 div.sk-parallel-item::before {content: \"\";position: absolute;border-left: 1px solid gray;box-sizing: border-box;top: 0;bottom: 0;left: 50%;z-index: -1;}#sk-container-id-1 div.sk-parallel-item {display: flex;flex-direction: column;z-index: 1;position: relative;background-color: white;}#sk-container-id-1 div.sk-parallel-item:first-child::after {align-self: flex-end;width: 50%;}#sk-container-id-1 div.sk-parallel-item:last-child::after {align-self: flex-start;width: 50%;}#sk-container-id-1 div.sk-parallel-item:only-child::after {width: 0;}#sk-container-id-1 div.sk-dashed-wrapped {border: 1px dashed gray;margin: 0 0.4em 0.5em 0.4em;box-sizing: border-box;padding-bottom: 0.4em;background-color: white;}#sk-container-id-1 div.sk-label label {font-family: monospace;font-weight: bold;display: inline-block;line-height: 1.2em;}#sk-container-id-1 div.sk-label-container {text-align: center;}#sk-container-id-1 div.sk-container {/* jupyter's `normalize.less` sets `[hidden] { display: none; }` but bootstrap.min.css set `[hidden] { display: none !important; }` so we also need the `!important` here to be able to override the default hidden behavior on the sphinx rendered scikit-learn.org. See: https://github.com/scikit-learn/scikit-learn/issues/21755 */display: inline-block !important;position: relative;}#sk-container-id-1 div.sk-text-repr-fallback {display: none;}</style><div id=\"sk-container-id-1\" class=\"sk-top-container\"><div class=\"sk-text-repr-fallback\"><pre>Pipeline(steps=[(&#x27;StandardScaler&#x27;, StandardScaler()),\n",
       "                (&#x27;Polynomial&#x27;, PolynomialFeatures()),\n",
       "                (&#x27;model&#x27;, LinearRegression())])</pre><b>In a Jupyter environment, please rerun this cell to show the HTML representation or trust the notebook. <br />On GitHub, the HTML representation is unable to render, please try loading this page with nbviewer.org.</b></div><div class=\"sk-container\" hidden><div class=\"sk-item sk-dashed-wrapped\"><div class=\"sk-label-container\"><div class=\"sk-label sk-toggleable\"><input class=\"sk-toggleable__control sk-hidden--visually\" id=\"sk-estimator-id-1\" type=\"checkbox\" ><label for=\"sk-estimator-id-1\" class=\"sk-toggleable__label sk-toggleable__label-arrow\">Pipeline</label><div class=\"sk-toggleable__content\"><pre>Pipeline(steps=[(&#x27;StandardScaler&#x27;, StandardScaler()),\n",
       "                (&#x27;Polynomial&#x27;, PolynomialFeatures()),\n",
       "                (&#x27;model&#x27;, LinearRegression())])</pre></div></div></div><div class=\"sk-serial\"><div class=\"sk-item\"><div class=\"sk-estimator sk-toggleable\"><input class=\"sk-toggleable__control sk-hidden--visually\" id=\"sk-estimator-id-2\" type=\"checkbox\" ><label for=\"sk-estimator-id-2\" class=\"sk-toggleable__label sk-toggleable__label-arrow\">StandardScaler</label><div class=\"sk-toggleable__content\"><pre>StandardScaler()</pre></div></div></div><div class=\"sk-item\"><div class=\"sk-estimator sk-toggleable\"><input class=\"sk-toggleable__control sk-hidden--visually\" id=\"sk-estimator-id-3\" type=\"checkbox\" ><label for=\"sk-estimator-id-3\" class=\"sk-toggleable__label sk-toggleable__label-arrow\">PolynomialFeatures</label><div class=\"sk-toggleable__content\"><pre>PolynomialFeatures()</pre></div></div></div><div class=\"sk-item\"><div class=\"sk-estimator sk-toggleable\"><input class=\"sk-toggleable__control sk-hidden--visually\" id=\"sk-estimator-id-4\" type=\"checkbox\" ><label for=\"sk-estimator-id-4\" class=\"sk-toggleable__label sk-toggleable__label-arrow\">LinearRegression</label><div class=\"sk-toggleable__content\"><pre>LinearRegression()</pre></div></div></div></div></div></div></div>"
      ],
      "text/plain": [
       "Pipeline(steps=[('StandardScaler', StandardScaler()),\n",
       "                ('Polynomial', PolynomialFeatures()),\n",
       "                ('model', LinearRegression())])"
      ]
     },
     "execution_count": 72,
     "metadata": {},
     "output_type": "execute_result"
    }
   ],
   "source": [
    "Input = [\n",
    "    ('StandardScaler',StandardScaler()),\n",
    "    ('Polynomial',PolynomialFeatures()),\n",
    "    ('model',LinearRegression())\n",
    "]\n",
    "\n",
    "pipeline = Pipeline(Input)\n",
    "pipeline"
   ]
  },
  {
   "cell_type": "code",
   "execution_count": 73,
   "id": "4efc3361-e139-4e0b-ba18-ac61f046a4b7",
   "metadata": {},
   "outputs": [
    {
     "data": {
      "text/html": [
       "<style>#sk-container-id-2 {color: black;}#sk-container-id-2 pre{padding: 0;}#sk-container-id-2 div.sk-toggleable {background-color: white;}#sk-container-id-2 label.sk-toggleable__label {cursor: pointer;display: block;width: 100%;margin-bottom: 0;padding: 0.3em;box-sizing: border-box;text-align: center;}#sk-container-id-2 label.sk-toggleable__label-arrow:before {content: \"▸\";float: left;margin-right: 0.25em;color: #696969;}#sk-container-id-2 label.sk-toggleable__label-arrow:hover:before {color: black;}#sk-container-id-2 div.sk-estimator:hover label.sk-toggleable__label-arrow:before {color: black;}#sk-container-id-2 div.sk-toggleable__content {max-height: 0;max-width: 0;overflow: hidden;text-align: left;background-color: #f0f8ff;}#sk-container-id-2 div.sk-toggleable__content pre {margin: 0.2em;color: black;border-radius: 0.25em;background-color: #f0f8ff;}#sk-container-id-2 input.sk-toggleable__control:checked~div.sk-toggleable__content {max-height: 200px;max-width: 100%;overflow: auto;}#sk-container-id-2 input.sk-toggleable__control:checked~label.sk-toggleable__label-arrow:before {content: \"▾\";}#sk-container-id-2 div.sk-estimator input.sk-toggleable__control:checked~label.sk-toggleable__label {background-color: #d4ebff;}#sk-container-id-2 div.sk-label input.sk-toggleable__control:checked~label.sk-toggleable__label {background-color: #d4ebff;}#sk-container-id-2 input.sk-hidden--visually {border: 0;clip: rect(1px 1px 1px 1px);clip: rect(1px, 1px, 1px, 1px);height: 1px;margin: -1px;overflow: hidden;padding: 0;position: absolute;width: 1px;}#sk-container-id-2 div.sk-estimator {font-family: monospace;background-color: #f0f8ff;border: 1px dotted black;border-radius: 0.25em;box-sizing: border-box;margin-bottom: 0.5em;}#sk-container-id-2 div.sk-estimator:hover {background-color: #d4ebff;}#sk-container-id-2 div.sk-parallel-item::after {content: \"\";width: 100%;border-bottom: 1px solid gray;flex-grow: 1;}#sk-container-id-2 div.sk-label:hover label.sk-toggleable__label {background-color: #d4ebff;}#sk-container-id-2 div.sk-serial::before {content: \"\";position: absolute;border-left: 1px solid gray;box-sizing: border-box;top: 0;bottom: 0;left: 50%;z-index: 0;}#sk-container-id-2 div.sk-serial {display: flex;flex-direction: column;align-items: center;background-color: white;padding-right: 0.2em;padding-left: 0.2em;position: relative;}#sk-container-id-2 div.sk-item {position: relative;z-index: 1;}#sk-container-id-2 div.sk-parallel {display: flex;align-items: stretch;justify-content: center;background-color: white;position: relative;}#sk-container-id-2 div.sk-item::before, #sk-container-id-2 div.sk-parallel-item::before {content: \"\";position: absolute;border-left: 1px solid gray;box-sizing: border-box;top: 0;bottom: 0;left: 50%;z-index: -1;}#sk-container-id-2 div.sk-parallel-item {display: flex;flex-direction: column;z-index: 1;position: relative;background-color: white;}#sk-container-id-2 div.sk-parallel-item:first-child::after {align-self: flex-end;width: 50%;}#sk-container-id-2 div.sk-parallel-item:last-child::after {align-self: flex-start;width: 50%;}#sk-container-id-2 div.sk-parallel-item:only-child::after {width: 0;}#sk-container-id-2 div.sk-dashed-wrapped {border: 1px dashed gray;margin: 0 0.4em 0.5em 0.4em;box-sizing: border-box;padding-bottom: 0.4em;background-color: white;}#sk-container-id-2 div.sk-label label {font-family: monospace;font-weight: bold;display: inline-block;line-height: 1.2em;}#sk-container-id-2 div.sk-label-container {text-align: center;}#sk-container-id-2 div.sk-container {/* jupyter's `normalize.less` sets `[hidden] { display: none; }` but bootstrap.min.css set `[hidden] { display: none !important; }` so we also need the `!important` here to be able to override the default hidden behavior on the sphinx rendered scikit-learn.org. See: https://github.com/scikit-learn/scikit-learn/issues/21755 */display: inline-block !important;position: relative;}#sk-container-id-2 div.sk-text-repr-fallback {display: none;}</style><div id=\"sk-container-id-2\" class=\"sk-top-container\"><div class=\"sk-text-repr-fallback\"><pre>Pipeline(steps=[(&#x27;StandardScaler&#x27;, StandardScaler()),\n",
       "                (&#x27;Polynomial&#x27;, PolynomialFeatures()),\n",
       "                (&#x27;model&#x27;, LinearRegression())])</pre><b>In a Jupyter environment, please rerun this cell to show the HTML representation or trust the notebook. <br />On GitHub, the HTML representation is unable to render, please try loading this page with nbviewer.org.</b></div><div class=\"sk-container\" hidden><div class=\"sk-item sk-dashed-wrapped\"><div class=\"sk-label-container\"><div class=\"sk-label sk-toggleable\"><input class=\"sk-toggleable__control sk-hidden--visually\" id=\"sk-estimator-id-5\" type=\"checkbox\" ><label for=\"sk-estimator-id-5\" class=\"sk-toggleable__label sk-toggleable__label-arrow\">Pipeline</label><div class=\"sk-toggleable__content\"><pre>Pipeline(steps=[(&#x27;StandardScaler&#x27;, StandardScaler()),\n",
       "                (&#x27;Polynomial&#x27;, PolynomialFeatures()),\n",
       "                (&#x27;model&#x27;, LinearRegression())])</pre></div></div></div><div class=\"sk-serial\"><div class=\"sk-item\"><div class=\"sk-estimator sk-toggleable\"><input class=\"sk-toggleable__control sk-hidden--visually\" id=\"sk-estimator-id-6\" type=\"checkbox\" ><label for=\"sk-estimator-id-6\" class=\"sk-toggleable__label sk-toggleable__label-arrow\">StandardScaler</label><div class=\"sk-toggleable__content\"><pre>StandardScaler()</pre></div></div></div><div class=\"sk-item\"><div class=\"sk-estimator sk-toggleable\"><input class=\"sk-toggleable__control sk-hidden--visually\" id=\"sk-estimator-id-7\" type=\"checkbox\" ><label for=\"sk-estimator-id-7\" class=\"sk-toggleable__label sk-toggleable__label-arrow\">PolynomialFeatures</label><div class=\"sk-toggleable__content\"><pre>PolynomialFeatures()</pre></div></div></div><div class=\"sk-item\"><div class=\"sk-estimator sk-toggleable\"><input class=\"sk-toggleable__control sk-hidden--visually\" id=\"sk-estimator-id-8\" type=\"checkbox\" ><label for=\"sk-estimator-id-8\" class=\"sk-toggleable__label sk-toggleable__label-arrow\">LinearRegression</label><div class=\"sk-toggleable__content\"><pre>LinearRegression()</pre></div></div></div></div></div></div></div>"
      ],
      "text/plain": [
       "Pipeline(steps=[('StandardScaler', StandardScaler()),\n",
       "                ('Polynomial', PolynomialFeatures()),\n",
       "                ('model', LinearRegression())])"
      ]
     },
     "execution_count": 73,
     "metadata": {},
     "output_type": "execute_result"
    }
   ],
   "source": [
    "pipeline.fit(X_train, y_train)"
   ]
  },
  {
   "cell_type": "code",
   "execution_count": 74,
   "id": "8fcff311-63ef-4fb5-af89-0f32546f16e9",
   "metadata": {},
   "outputs": [
    {
     "name": "stdout",
     "output_type": "stream",
     "text": [
      "MAE: 4717058.424379232\n",
      "MSE: 41585395679931.75\n",
      "RMSE: 6448673.947404361\n",
      "MAPE: 0.5352017017540406\n",
      "R^2: 0.6307922758434463\n"
     ]
    }
   ],
   "source": [
    "y_pipeline_pred = pipeline.predict(X_test)\n",
    "metrics(y_test,y_pipeline_pred)"
   ]
  },
  {
   "cell_type": "markdown",
   "id": "d6c9e1ce-35fa-4faa-bd6c-08cfc261826f",
   "metadata": {},
   "source": [
    "## Реализация метрик по формулам"
   ]
  },
  {
   "cell_type": "code",
   "execution_count": 75,
   "id": "2e669580-e2f9-4cd6-a93c-380ce2455293",
   "metadata": {},
   "outputs": [],
   "source": [
    "def MSE(y_true: np.ndarray, y_pred: np.ndarray): \n",
    "    return np.sum((y_true - y_pred)**2) / y_true.shape[0]\n",
    "\n",
    "def MAE(y_true: np.ndarray, y_pred: np.ndarray):\n",
    "    return np.sum(np.absolute(y_true - y_pred)) / y_true.shape[0]\n",
    "\n",
    "def RMSE(y_true: np.ndarray, y_pred: np.ndarray): \n",
    "    return sqrt(MSE(y_true,y_pred))\n",
    "\n",
    "def MAPE(y_true: np.ndarray, y_pred: np.ndarray): \n",
    "    return np.sum(np.absolute((y_true - y_pred) / y_true)) / y_true.shape[0]\n",
    "\n",
    "def R2(y_true: np.ndarray, y_pred: np.ndarray):\n",
    "    return 1 - np.sum((y_true - y_pred)**2) / np.sum((y_true - np.mean(y_true))**2)"
   ]
  },
  {
   "cell_type": "code",
   "execution_count": 82,
   "id": "e7146249-67a5-40f5-98ee-4af7b8be7015",
   "metadata": {},
   "outputs": [
    {
     "name": "stdout",
     "output_type": "stream",
     "text": [
      "Sklearn metrics\n",
      "MAE: 23.3\n",
      "MSE: 859.7\n",
      "RMSE: 29.320641193534634\n",
      "MAPE: 1.2411806730654849\n",
      "R^2: -0.8028730208661004\n",
      "\n",
      "My metrics\n",
      "MAE = 23.3\n",
      "MSE = 859.7\n",
      "RMSE = 29.320641193534634\n",
      "MAPE = 1.5405294631912898\n",
      "R^2 = -0.8028730208661004\n",
      "\n"
     ]
    }
   ],
   "source": [
    "# test\n",
    "A = np.array([23, 14, 2, 3, 56, 32, 12, 67, 54, 32])\n",
    "B = np.array([56, 23, 13, 15, 76, 54, 21, 5, 6, 25])\n",
    "print(\"Sklearn metrics\")\n",
    "metrics(A,B)\n",
    "\n",
    "print('\\nMy metrics')\n",
    "print(f'MAE = {MAE(A,B)}')\n",
    "print(f'MSE = {MSE(A,B)}')\n",
    "print(f'RMSE = {RMSE(A,B)}')\n",
    "print(f'MAPE = {MAPE(A,B)}')\n",
    "print(f'R^2 = {R2(A,B)}')\n",
    "print('')"
   ]
  },
  {
   "cell_type": "markdown",
   "id": "dc0fbd15-97e5-4ce6-9bdd-63cf9dd183db",
   "metadata": {},
   "source": [
    "## One_Hot Кодирование, ElasticNet"
   ]
  },
  {
   "cell_type": "code",
   "execution_count": 77,
   "id": "6d78dbeb-0dc8-446d-88ef-229214ca25ba",
   "metadata": {},
   "outputs": [
    {
     "data": {
      "text/plain": [
       "((5004, 18), (5004,), (1251, 18), (1251,))"
      ]
     },
     "execution_count": 77,
     "metadata": {},
     "output_type": "execute_result"
    }
   ],
   "source": [
    "data_hot = pd.get_dummies(data.drop('area',axis=1),dtype=int)\n",
    "Y_hot = data_hot['price']\n",
    "X_hot = data_hot[data_hot.describe().columns].drop('price',axis=1)\n",
    "\n",
    "X_train_hot, X_test_hot, Y_train_hot, Y_test_hot = train_test_split(X_hot,Y_hot,test_size=0.2)\n",
    "\n",
    "X_train_hot.shape, Y_train_hot.shape, X_test_hot.shape, Y_test_hot.shape"
   ]
  },
  {
   "cell_type": "code",
   "execution_count": 78,
   "id": "874ff7dc-6d9d-47a2-95b0-21bdf491ebe8",
   "metadata": {},
   "outputs": [
    {
     "data": {
      "text/html": [
       "<style>#sk-container-id-3 {color: black;}#sk-container-id-3 pre{padding: 0;}#sk-container-id-3 div.sk-toggleable {background-color: white;}#sk-container-id-3 label.sk-toggleable__label {cursor: pointer;display: block;width: 100%;margin-bottom: 0;padding: 0.3em;box-sizing: border-box;text-align: center;}#sk-container-id-3 label.sk-toggleable__label-arrow:before {content: \"▸\";float: left;margin-right: 0.25em;color: #696969;}#sk-container-id-3 label.sk-toggleable__label-arrow:hover:before {color: black;}#sk-container-id-3 div.sk-estimator:hover label.sk-toggleable__label-arrow:before {color: black;}#sk-container-id-3 div.sk-toggleable__content {max-height: 0;max-width: 0;overflow: hidden;text-align: left;background-color: #f0f8ff;}#sk-container-id-3 div.sk-toggleable__content pre {margin: 0.2em;color: black;border-radius: 0.25em;background-color: #f0f8ff;}#sk-container-id-3 input.sk-toggleable__control:checked~div.sk-toggleable__content {max-height: 200px;max-width: 100%;overflow: auto;}#sk-container-id-3 input.sk-toggleable__control:checked~label.sk-toggleable__label-arrow:before {content: \"▾\";}#sk-container-id-3 div.sk-estimator input.sk-toggleable__control:checked~label.sk-toggleable__label {background-color: #d4ebff;}#sk-container-id-3 div.sk-label input.sk-toggleable__control:checked~label.sk-toggleable__label {background-color: #d4ebff;}#sk-container-id-3 input.sk-hidden--visually {border: 0;clip: rect(1px 1px 1px 1px);clip: rect(1px, 1px, 1px, 1px);height: 1px;margin: -1px;overflow: hidden;padding: 0;position: absolute;width: 1px;}#sk-container-id-3 div.sk-estimator {font-family: monospace;background-color: #f0f8ff;border: 1px dotted black;border-radius: 0.25em;box-sizing: border-box;margin-bottom: 0.5em;}#sk-container-id-3 div.sk-estimator:hover {background-color: #d4ebff;}#sk-container-id-3 div.sk-parallel-item::after {content: \"\";width: 100%;border-bottom: 1px solid gray;flex-grow: 1;}#sk-container-id-3 div.sk-label:hover label.sk-toggleable__label {background-color: #d4ebff;}#sk-container-id-3 div.sk-serial::before {content: \"\";position: absolute;border-left: 1px solid gray;box-sizing: border-box;top: 0;bottom: 0;left: 50%;z-index: 0;}#sk-container-id-3 div.sk-serial {display: flex;flex-direction: column;align-items: center;background-color: white;padding-right: 0.2em;padding-left: 0.2em;position: relative;}#sk-container-id-3 div.sk-item {position: relative;z-index: 1;}#sk-container-id-3 div.sk-parallel {display: flex;align-items: stretch;justify-content: center;background-color: white;position: relative;}#sk-container-id-3 div.sk-item::before, #sk-container-id-3 div.sk-parallel-item::before {content: \"\";position: absolute;border-left: 1px solid gray;box-sizing: border-box;top: 0;bottom: 0;left: 50%;z-index: -1;}#sk-container-id-3 div.sk-parallel-item {display: flex;flex-direction: column;z-index: 1;position: relative;background-color: white;}#sk-container-id-3 div.sk-parallel-item:first-child::after {align-self: flex-end;width: 50%;}#sk-container-id-3 div.sk-parallel-item:last-child::after {align-self: flex-start;width: 50%;}#sk-container-id-3 div.sk-parallel-item:only-child::after {width: 0;}#sk-container-id-3 div.sk-dashed-wrapped {border: 1px dashed gray;margin: 0 0.4em 0.5em 0.4em;box-sizing: border-box;padding-bottom: 0.4em;background-color: white;}#sk-container-id-3 div.sk-label label {font-family: monospace;font-weight: bold;display: inline-block;line-height: 1.2em;}#sk-container-id-3 div.sk-label-container {text-align: center;}#sk-container-id-3 div.sk-container {/* jupyter's `normalize.less` sets `[hidden] { display: none; }` but bootstrap.min.css set `[hidden] { display: none !important; }` so we also need the `!important` here to be able to override the default hidden behavior on the sphinx rendered scikit-learn.org. See: https://github.com/scikit-learn/scikit-learn/issues/21755 */display: inline-block !important;position: relative;}#sk-container-id-3 div.sk-text-repr-fallback {display: none;}</style><div id=\"sk-container-id-3\" class=\"sk-top-container\"><div class=\"sk-text-repr-fallback\"><pre>StandardScaler()</pre><b>In a Jupyter environment, please rerun this cell to show the HTML representation or trust the notebook. <br />On GitHub, the HTML representation is unable to render, please try loading this page with nbviewer.org.</b></div><div class=\"sk-container\" hidden><div class=\"sk-item\"><div class=\"sk-estimator sk-toggleable\"><input class=\"sk-toggleable__control sk-hidden--visually\" id=\"sk-estimator-id-9\" type=\"checkbox\" checked><label for=\"sk-estimator-id-9\" class=\"sk-toggleable__label sk-toggleable__label-arrow\">StandardScaler</label><div class=\"sk-toggleable__content\"><pre>StandardScaler()</pre></div></div></div></div></div>"
      ],
      "text/plain": [
       "StandardScaler()"
      ]
     },
     "execution_count": 78,
     "metadata": {},
     "output_type": "execute_result"
    }
   ],
   "source": [
    "scaler = StandardScaler()\n",
    "scaler.fit(X_train_hot)"
   ]
  },
  {
   "cell_type": "code",
   "execution_count": 79,
   "id": "cc0e5409-07b2-4312-9f9c-0c6187d213ab",
   "metadata": {},
   "outputs": [
    {
     "name": "stdout",
     "output_type": "stream",
     "text": [
      "MAE: 11546227.666777244\n",
      "MSE: 481267816852495.25\n",
      "RMSE: 21937817.048478074\n",
      "MAPE: 0.7667596628854757\n",
      "R^2: 0.43139528285644013\n"
     ]
    }
   ],
   "source": [
    "parameters = {'alpha': np.arange(0.1, 1.1, 0.3)}\n",
    "\n",
    "elastic_model = GridSearchCV(ElasticNet(),parameters).fit(X_train_hot,Y_train_hot)\n",
    "y_pred = elastic_model.predict(X_test_hot)\n",
    "metrics(Y_test_hot,y_pred)"
   ]
  },
  {
   "cell_type": "code",
   "execution_count": 80,
   "id": "f9889ca9-d60d-4ad2-bcb0-f28ecf9ff2a0",
   "metadata": {},
   "outputs": [
    {
     "name": "stdout",
     "output_type": "stream",
     "text": [
      "MAE: 11546227.666777244\n",
      "MSE: 481267816852495.25\n",
      "RMSE: 21937817.048478074\n",
      "MAPE: 0.7667596628854757\n",
      "R^2: 0.43139528285644013\n"
     ]
    }
   ],
   "source": [
    "parameters = {'alpha': np.arange(0.1, 1.1, 0.3)}\n",
    "\n",
    "lasso_model = GridSearchCV(Lasso(),parameters).fit(X_train_hot,Y_train_hot)\n",
    "y_pred = elastic_model.predict(X_test_hot)\n",
    "metrics(Y_test_hot,y_pred)"
   ]
  },
  {
   "cell_type": "code",
   "execution_count": 81,
   "id": "aa1b4b1e-8af9-4a78-b88c-08776d26df3d",
   "metadata": {},
   "outputs": [
    {
     "name": "stdout",
     "output_type": "stream",
     "text": [
      "MAE: 11546227.666777244\n",
      "MSE: 481267816852495.25\n",
      "RMSE: 21937817.048478074\n",
      "MAPE: 0.7667596628854757\n",
      "R^2: 0.43139528285644013\n"
     ]
    }
   ],
   "source": [
    "parameters = {'alpha': np.arange(0.1, 1.1, 0.3)}\n",
    "\n",
    "ridge_model = GridSearchCV(Ridge(),parameters).fit(X_train_hot,Y_train_hot)\n",
    "y_pred = elastic_model.predict(X_test_hot)\n",
    "metrics(Y_test_hot,y_pred)"
   ]
  },
  {
   "cell_type": "code",
   "execution_count": null,
   "id": "b48e8c09-23c0-491a-949b-df0c8a4f6048",
   "metadata": {},
   "outputs": [],
   "source": []
  }
 ],
 "metadata": {
  "kernelspec": {
   "display_name": "Python 3 (ipykernel)",
   "language": "python",
   "name": "python3"
  },
  "language_info": {
   "codemirror_mode": {
    "name": "ipython",
    "version": 3
   },
   "file_extension": ".py",
   "mimetype": "text/x-python",
   "name": "python",
   "nbconvert_exporter": "python",
   "pygments_lexer": "ipython3",
   "version": "3.10.4"
  }
 },
 "nbformat": 4,
 "nbformat_minor": 5
}
